{
 "cells": [
  {
   "cell_type": "markdown",
   "metadata": {},
   "source": [
    "## Objective - To build a model for predicting whether a customer is happy or not"
   ]
  },
  {
   "cell_type": "markdown",
   "metadata": {},
   "source": [
    "Importing relevant libraries"
   ]
  },
  {
   "cell_type": "code",
   "execution_count": 81,
   "metadata": {},
   "outputs": [],
   "source": [
    "import os\n",
    "import pandas as pd\n",
    "import statsmodels.api as sm\n",
    "from sklearn.model_selection import train_test_split, cross_val_score, StratifiedKFold\n",
    "from sklearn.linear_model import LogisticRegression, Perceptron, PassiveAggressiveClassifier\n",
    "from sklearn.neighbors import KNeighborsClassifier, NearestCentroid\n",
    "from sklearn.tree import DecisionTreeClassifier\n",
    "from sklearn.ensemble import RandomForestClassifier, GradientBoostingClassifier\n",
    "from sklearn.metrics import confusion_matrix, classification_report, f1_score\n",
    "import seaborn as sn\n",
    "import matplotlib.pyplot as plt\n",
    "from sklearn.inspection import permutation_importance        # Feature importance\n",
    "from sklearn.feature_selection import RFECV\n",
    "from imblearn.over_sampling import RandomOverSampler\n",
    "from imblearn.under_sampling import RandomUnderSampler\n",
    "from collections import Counter\n",
    "import random\n",
    "from lazypredict.Supervised import LazyClassifier\n",
    "from sklearn import datasets\n",
    "from sklearn.utils.testing import ignore_warnings"
   ]
  },
  {
   "cell_type": "markdown",
   "metadata": {},
   "source": [
    "Change directory and import the data set"
   ]
  },
  {
   "cell_type": "code",
   "execution_count": 2,
   "metadata": {},
   "outputs": [
    {
     "data": {
      "text/html": [
       "<div>\n",
       "<style scoped>\n",
       "    .dataframe tbody tr th:only-of-type {\n",
       "        vertical-align: middle;\n",
       "    }\n",
       "\n",
       "    .dataframe tbody tr th {\n",
       "        vertical-align: top;\n",
       "    }\n",
       "\n",
       "    .dataframe thead th {\n",
       "        text-align: right;\n",
       "    }\n",
       "</style>\n",
       "<table border=\"1\" class=\"dataframe\">\n",
       "  <thead>\n",
       "    <tr style=\"text-align: right;\">\n",
       "      <th></th>\n",
       "      <th>Y</th>\n",
       "      <th>X1</th>\n",
       "      <th>X2</th>\n",
       "      <th>X3</th>\n",
       "      <th>X4</th>\n",
       "      <th>X5</th>\n",
       "      <th>X6</th>\n",
       "    </tr>\n",
       "  </thead>\n",
       "  <tbody>\n",
       "    <tr>\n",
       "      <th>0</th>\n",
       "      <td>0</td>\n",
       "      <td>3</td>\n",
       "      <td>3</td>\n",
       "      <td>3</td>\n",
       "      <td>4</td>\n",
       "      <td>2</td>\n",
       "      <td>4</td>\n",
       "    </tr>\n",
       "    <tr>\n",
       "      <th>1</th>\n",
       "      <td>0</td>\n",
       "      <td>3</td>\n",
       "      <td>2</td>\n",
       "      <td>3</td>\n",
       "      <td>5</td>\n",
       "      <td>4</td>\n",
       "      <td>3</td>\n",
       "    </tr>\n",
       "    <tr>\n",
       "      <th>2</th>\n",
       "      <td>1</td>\n",
       "      <td>5</td>\n",
       "      <td>3</td>\n",
       "      <td>3</td>\n",
       "      <td>3</td>\n",
       "      <td>3</td>\n",
       "      <td>5</td>\n",
       "    </tr>\n",
       "    <tr>\n",
       "      <th>3</th>\n",
       "      <td>0</td>\n",
       "      <td>5</td>\n",
       "      <td>4</td>\n",
       "      <td>3</td>\n",
       "      <td>3</td>\n",
       "      <td>3</td>\n",
       "      <td>5</td>\n",
       "    </tr>\n",
       "    <tr>\n",
       "      <th>4</th>\n",
       "      <td>0</td>\n",
       "      <td>5</td>\n",
       "      <td>4</td>\n",
       "      <td>3</td>\n",
       "      <td>3</td>\n",
       "      <td>3</td>\n",
       "      <td>5</td>\n",
       "    </tr>\n",
       "  </tbody>\n",
       "</table>\n",
       "</div>"
      ],
      "text/plain": [
       "   Y  X1  X2  X3  X4  X5  X6\n",
       "0  0   3   3   3   4   2   4\n",
       "1  0   3   2   3   5   4   3\n",
       "2  1   5   3   3   3   3   5\n",
       "3  0   5   4   3   3   3   5\n",
       "4  0   5   4   3   3   3   5"
      ]
     },
     "execution_count": 2,
     "metadata": {},
     "output_type": "execute_result"
    }
   ],
   "source": [
    "os.chdir(\"F:\\Blue Sky\\EVERYTHING\\DATA SCIENCE\\Apziva\\Happy Customers\")\n",
    "hc = pd.read_csv(\"ACME-HappinessSurvey2020.csv\")\n",
    "hc.head()"
   ]
  },
  {
   "cell_type": "markdown",
   "metadata": {},
   "source": [
    "Renaming columns for increasing readability"
   ]
  },
  {
   "cell_type": "code",
   "execution_count": 3,
   "metadata": {},
   "outputs": [
    {
     "data": {
      "text/html": [
       "<div>\n",
       "<style scoped>\n",
       "    .dataframe tbody tr th:only-of-type {\n",
       "        vertical-align: middle;\n",
       "    }\n",
       "\n",
       "    .dataframe tbody tr th {\n",
       "        vertical-align: top;\n",
       "    }\n",
       "\n",
       "    .dataframe thead th {\n",
       "        text-align: right;\n",
       "    }\n",
       "</style>\n",
       "<table border=\"1\" class=\"dataframe\">\n",
       "  <thead>\n",
       "    <tr style=\"text-align: right;\">\n",
       "      <th></th>\n",
       "      <th>happiness_status</th>\n",
       "      <th>timely_delivery</th>\n",
       "      <th>exp_contents</th>\n",
       "      <th>ordered_all</th>\n",
       "      <th>good_price</th>\n",
       "      <th>courier_satisf</th>\n",
       "      <th>easy_app_order</th>\n",
       "    </tr>\n",
       "  </thead>\n",
       "  <tbody>\n",
       "    <tr>\n",
       "      <th>0</th>\n",
       "      <td>0</td>\n",
       "      <td>3</td>\n",
       "      <td>3</td>\n",
       "      <td>3</td>\n",
       "      <td>4</td>\n",
       "      <td>2</td>\n",
       "      <td>4</td>\n",
       "    </tr>\n",
       "    <tr>\n",
       "      <th>1</th>\n",
       "      <td>0</td>\n",
       "      <td>3</td>\n",
       "      <td>2</td>\n",
       "      <td>3</td>\n",
       "      <td>5</td>\n",
       "      <td>4</td>\n",
       "      <td>3</td>\n",
       "    </tr>\n",
       "    <tr>\n",
       "      <th>2</th>\n",
       "      <td>1</td>\n",
       "      <td>5</td>\n",
       "      <td>3</td>\n",
       "      <td>3</td>\n",
       "      <td>3</td>\n",
       "      <td>3</td>\n",
       "      <td>5</td>\n",
       "    </tr>\n",
       "    <tr>\n",
       "      <th>3</th>\n",
       "      <td>0</td>\n",
       "      <td>5</td>\n",
       "      <td>4</td>\n",
       "      <td>3</td>\n",
       "      <td>3</td>\n",
       "      <td>3</td>\n",
       "      <td>5</td>\n",
       "    </tr>\n",
       "    <tr>\n",
       "      <th>4</th>\n",
       "      <td>0</td>\n",
       "      <td>5</td>\n",
       "      <td>4</td>\n",
       "      <td>3</td>\n",
       "      <td>3</td>\n",
       "      <td>3</td>\n",
       "      <td>5</td>\n",
       "    </tr>\n",
       "  </tbody>\n",
       "</table>\n",
       "</div>"
      ],
      "text/plain": [
       "   happiness_status  timely_delivery  exp_contents  ordered_all  good_price  \\\n",
       "0                 0                3             3            3           4   \n",
       "1                 0                3             2            3           5   \n",
       "2                 1                5             3            3           3   \n",
       "3                 0                5             4            3           3   \n",
       "4                 0                5             4            3           3   \n",
       "\n",
       "   courier_satisf  easy_app_order  \n",
       "0               2               4  \n",
       "1               4               3  \n",
       "2               3               5  \n",
       "3               3               5  \n",
       "4               3               5  "
      ]
     },
     "execution_count": 3,
     "metadata": {},
     "output_type": "execute_result"
    }
   ],
   "source": [
    "hc.columns = ['happiness_status', 'timely_delivery', 'exp_contents', 'ordered_all', 'good_price', 'courier_satisf', 'easy_app_order']\n",
    "hc.head()"
   ]
  },
  {
   "cell_type": "markdown",
   "metadata": {},
   "source": [
    "### Exploratory Data Analysis"
   ]
  },
  {
   "cell_type": "code",
   "execution_count": 4,
   "metadata": {},
   "outputs": [
    {
     "name": "stdout",
     "output_type": "stream",
     "text": [
      "<class 'pandas.core.frame.DataFrame'>\n",
      "RangeIndex: 126 entries, 0 to 125\n",
      "Data columns (total 7 columns):\n",
      " #   Column            Non-Null Count  Dtype\n",
      "---  ------            --------------  -----\n",
      " 0   happiness_status  126 non-null    int64\n",
      " 1   timely_delivery   126 non-null    int64\n",
      " 2   exp_contents      126 non-null    int64\n",
      " 3   ordered_all       126 non-null    int64\n",
      " 4   good_price        126 non-null    int64\n",
      " 5   courier_satisf    126 non-null    int64\n",
      " 6   easy_app_order    126 non-null    int64\n",
      "dtypes: int64(7)\n",
      "memory usage: 7.0 KB\n"
     ]
    }
   ],
   "source": [
    "hc.info()"
   ]
  },
  {
   "cell_type": "code",
   "execution_count": 5,
   "metadata": {},
   "outputs": [
    {
     "data": {
      "text/html": [
       "<div>\n",
       "<style scoped>\n",
       "    .dataframe tbody tr th:only-of-type {\n",
       "        vertical-align: middle;\n",
       "    }\n",
       "\n",
       "    .dataframe tbody tr th {\n",
       "        vertical-align: top;\n",
       "    }\n",
       "\n",
       "    .dataframe thead th {\n",
       "        text-align: right;\n",
       "    }\n",
       "</style>\n",
       "<table border=\"1\" class=\"dataframe\">\n",
       "  <thead>\n",
       "    <tr style=\"text-align: right;\">\n",
       "      <th></th>\n",
       "      <th>happiness_status</th>\n",
       "      <th>timely_delivery</th>\n",
       "      <th>exp_contents</th>\n",
       "      <th>ordered_all</th>\n",
       "      <th>good_price</th>\n",
       "      <th>courier_satisf</th>\n",
       "      <th>easy_app_order</th>\n",
       "    </tr>\n",
       "  </thead>\n",
       "  <tbody>\n",
       "    <tr>\n",
       "      <th>count</th>\n",
       "      <td>126.00</td>\n",
       "      <td>126.00</td>\n",
       "      <td>126.00</td>\n",
       "      <td>126.00</td>\n",
       "      <td>126.00</td>\n",
       "      <td>126.00</td>\n",
       "      <td>126.00</td>\n",
       "    </tr>\n",
       "    <tr>\n",
       "      <th>mean</th>\n",
       "      <td>0.55</td>\n",
       "      <td>4.33</td>\n",
       "      <td>2.53</td>\n",
       "      <td>3.31</td>\n",
       "      <td>3.75</td>\n",
       "      <td>3.65</td>\n",
       "      <td>4.25</td>\n",
       "    </tr>\n",
       "    <tr>\n",
       "      <th>std</th>\n",
       "      <td>0.50</td>\n",
       "      <td>0.80</td>\n",
       "      <td>1.11</td>\n",
       "      <td>1.02</td>\n",
       "      <td>0.88</td>\n",
       "      <td>1.15</td>\n",
       "      <td>0.81</td>\n",
       "    </tr>\n",
       "    <tr>\n",
       "      <th>min</th>\n",
       "      <td>0.00</td>\n",
       "      <td>1.00</td>\n",
       "      <td>1.00</td>\n",
       "      <td>1.00</td>\n",
       "      <td>1.00</td>\n",
       "      <td>1.00</td>\n",
       "      <td>1.00</td>\n",
       "    </tr>\n",
       "    <tr>\n",
       "      <th>25%</th>\n",
       "      <td>0.00</td>\n",
       "      <td>4.00</td>\n",
       "      <td>2.00</td>\n",
       "      <td>3.00</td>\n",
       "      <td>3.00</td>\n",
       "      <td>3.00</td>\n",
       "      <td>4.00</td>\n",
       "    </tr>\n",
       "    <tr>\n",
       "      <th>50%</th>\n",
       "      <td>1.00</td>\n",
       "      <td>5.00</td>\n",
       "      <td>3.00</td>\n",
       "      <td>3.00</td>\n",
       "      <td>4.00</td>\n",
       "      <td>4.00</td>\n",
       "      <td>4.00</td>\n",
       "    </tr>\n",
       "    <tr>\n",
       "      <th>75%</th>\n",
       "      <td>1.00</td>\n",
       "      <td>5.00</td>\n",
       "      <td>3.00</td>\n",
       "      <td>4.00</td>\n",
       "      <td>4.00</td>\n",
       "      <td>4.00</td>\n",
       "      <td>5.00</td>\n",
       "    </tr>\n",
       "    <tr>\n",
       "      <th>max</th>\n",
       "      <td>1.00</td>\n",
       "      <td>5.00</td>\n",
       "      <td>5.00</td>\n",
       "      <td>5.00</td>\n",
       "      <td>5.00</td>\n",
       "      <td>5.00</td>\n",
       "      <td>5.00</td>\n",
       "    </tr>\n",
       "  </tbody>\n",
       "</table>\n",
       "</div>"
      ],
      "text/plain": [
       "       happiness_status  timely_delivery  exp_contents  ordered_all  \\\n",
       "count            126.00           126.00        126.00       126.00   \n",
       "mean               0.55             4.33          2.53         3.31   \n",
       "std                0.50             0.80          1.11         1.02   \n",
       "min                0.00             1.00          1.00         1.00   \n",
       "25%                0.00             4.00          2.00         3.00   \n",
       "50%                1.00             5.00          3.00         3.00   \n",
       "75%                1.00             5.00          3.00         4.00   \n",
       "max                1.00             5.00          5.00         5.00   \n",
       "\n",
       "       good_price  courier_satisf  easy_app_order  \n",
       "count      126.00          126.00          126.00  \n",
       "mean         3.75            3.65            4.25  \n",
       "std          0.88            1.15            0.81  \n",
       "min          1.00            1.00            1.00  \n",
       "25%          3.00            3.00            4.00  \n",
       "50%          4.00            4.00            4.00  \n",
       "75%          4.00            4.00            5.00  \n",
       "max          5.00            5.00            5.00  "
      ]
     },
     "execution_count": 5,
     "metadata": {},
     "output_type": "execute_result"
    }
   ],
   "source": [
    "hc.describe()"
   ]
  },
  {
   "cell_type": "markdown",
   "metadata": {},
   "source": [
    "No null or missing values. No imputation required"
   ]
  },
  {
   "cell_type": "markdown",
   "metadata": {},
   "source": [
    "Check class balancing to identify if oversampling or undersampling is required"
   ]
  },
  {
   "cell_type": "code",
   "execution_count": 6,
   "metadata": {
    "scrolled": true
   },
   "outputs": [
    {
     "data": {
      "text/plain": [
       "1    69\n",
       "0    57\n",
       "Name: happiness_status, dtype: int64"
      ]
     },
     "execution_count": 6,
     "metadata": {},
     "output_type": "execute_result"
    }
   ],
   "source": [
    "hc['happiness_status'].value_counts()"
   ]
  },
  {
   "cell_type": "markdown",
   "metadata": {},
   "source": [
    "The class of the independent variable is balanced as 53% of the values belong to one class and 47% to another class. Oversampling or undersampling is not required"
   ]
  },
  {
   "cell_type": "markdown",
   "metadata": {},
   "source": [
    "Set seed for reproducability"
   ]
  },
  {
   "cell_type": "code",
   "execution_count": 7,
   "metadata": {},
   "outputs": [],
   "source": [
    "seed_value = 42\n",
    "random.seed(seed_value)"
   ]
  },
  {
   "cell_type": "markdown",
   "metadata": {},
   "source": [
    "Train Test split - For training and testing data"
   ]
  },
  {
   "cell_type": "code",
   "execution_count": 8,
   "metadata": {},
   "outputs": [
    {
     "name": "stdout",
     "output_type": "stream",
     "text": [
      "   timely_delivery  exp_contents  ordered_all  good_price  courier_satisf  \\\n",
      "0                3             3            3           4               2   \n",
      "1                3             2            3           5               4   \n",
      "2                5             3            3           3               3   \n",
      "3                5             4            3           3               3   \n",
      "4                5             4            3           3               3   \n",
      "\n",
      "   easy_app_order  \n",
      "0               4  \n",
      "1               3  \n",
      "2               5  \n",
      "3               5  \n",
      "4               5  \n",
      "0    0\n",
      "1    0\n",
      "2    1\n",
      "3    0\n",
      "4    0\n",
      "Name: happiness_status, dtype: int64\n"
     ]
    }
   ],
   "source": [
    "X = hc.drop(columns = 'happiness_status')\n",
    "y = hc['happiness_status']\n",
    "print(X.head())\n",
    "print(y.head())"
   ]
  },
  {
   "cell_type": "code",
   "execution_count": 9,
   "metadata": {},
   "outputs": [
    {
     "name": "stdout",
     "output_type": "stream",
     "text": [
      "     timely_delivery  exp_contents  ordered_all  good_price  courier_satisf  \\\n",
      "116                3             4            4           5               1   \n",
      "13                 4             2            4           5               4   \n",
      "33                 3             2            4           4               4   \n",
      "75                 3             2            3           3               4   \n",
      "26                 3             3            3           5               5   \n",
      "\n",
      "     easy_app_order  \n",
      "116               3  \n",
      "13                3  \n",
      "33                5  \n",
      "75                4  \n",
      "26                5  \n",
      "(100, 6)\n",
      "(26, 6)\n"
     ]
    }
   ],
   "source": [
    "X_train, X_test, y_train, y_test = train_test_split(X,y, test_size = 0.2, random_state = 0)\n",
    "print(X_train.head())\n",
    "print(X_train.shape)\n",
    "print(X_test.shape)"
   ]
  },
  {
   "cell_type": "markdown",
   "metadata": {},
   "source": [
    "## Modeling"
   ]
  },
  {
   "cell_type": "markdown",
   "metadata": {},
   "source": [
    "Creating different classification models to train them on training data and testing accuracy. We'll start with basic models like Logistic Regression and then move on to complex models like Random Forest.The idea is to get best possible F1-score accuracy and hence identify best model."
   ]
  },
  {
   "cell_type": "markdown",
   "metadata": {},
   "source": [
    "## 1. Logistic Regression"
   ]
  },
  {
   "cell_type": "markdown",
   "metadata": {},
   "source": [
    "1a. Creating Logistic Regression model using Statsmodels module to identify statistical significance of features "
   ]
  },
  {
   "cell_type": "code",
   "execution_count": 10,
   "metadata": {
    "scrolled": false
   },
   "outputs": [
    {
     "name": "stdout",
     "output_type": "stream",
     "text": [
      "Optimization terminated successfully.\n",
      "         Current function value: 0.637875\n",
      "         Iterations 5\n",
      "                        Results: Logit\n",
      "===============================================================\n",
      "Model:              Logit            Pseudo R-squared: 0.074   \n",
      "Dependent Variable: happiness_status AIC:              174.7445\n",
      "Date:               2021-06-12 17:46 BIC:              194.5985\n",
      "No. Observations:   126              Log-Likelihood:   -80.372 \n",
      "Df Model:           6                LL-Null:          -86.764 \n",
      "Df Residuals:       119              LLR p-value:      0.046597\n",
      "Converged:          1.0000           Scale:            1.0000  \n",
      "No. Iterations:     5.0000                                     \n",
      "---------------------------------------------------------------\n",
      "                 Coef.  Std.Err.    z    P>|z|   [0.025  0.975]\n",
      "---------------------------------------------------------------\n",
      "const           -3.5674   1.4891 -2.3957 0.0166 -6.4859 -0.6489\n",
      "timely_delivery  0.5738   0.2888  1.9866 0.0470  0.0077  1.1400\n",
      "exp_contents    -0.0937   0.1757 -0.5334 0.5938 -0.4380  0.2506\n",
      "ordered_all      0.1317   0.2103  0.6262 0.5312 -0.2805  0.5438\n",
      "good_price      -0.0058   0.2357 -0.0248 0.9802 -0.4678  0.4561\n",
      "courier_satisf   0.2045   0.1943  1.0525 0.2926 -0.1764  0.5854\n",
      "easy_app_order   0.0830   0.2641  0.3143 0.7533 -0.4347  0.6007\n",
      "===============================================================\n",
      "\n"
     ]
    }
   ],
   "source": [
    "X_sm = X                          # Creating a copy of X because we'll be adding a constant for Statsmodels logistic regression\n",
    "X_sm = sm.add_constant(X_sm)      # Adding constant y-intercept for training data\n",
    "logit_model = sm.Logit(y,X_sm)    # Building the model (An instance og Logistic Regression)\n",
    "result = logit_model.fit()        # Fitting the data\n",
    "print(result.summary2())"
   ]
  },
  {
   "cell_type": "markdown",
   "metadata": {},
   "source": [
    "timely_delivery is the most statistically significant variable and good_price is least statistically significant variable"
   ]
  },
  {
   "cell_type": "markdown",
   "metadata": {},
   "source": [
    "1b. Creating Logistic Regression model using sklearn module to calculate F1-score"
   ]
  },
  {
   "cell_type": "code",
   "execution_count": 11,
   "metadata": {},
   "outputs": [],
   "source": [
    "logreg = LogisticRegression()    # Building model as an instance of Logistic Regression\n",
    "logreg.fit(X_train, y_train)     # Fitting training data\n",
    "y_pred_logit = logreg.predict(X_test)  # Predict based on test data"
   ]
  },
  {
   "cell_type": "code",
   "execution_count": 12,
   "metadata": {},
   "outputs": [
    {
     "data": {
      "image/png": "[encoded data removed]",
      "text/plain": [
       "<Figure size 432x360 with 2 Axes>"
      ]
     },
     "metadata": {
      "needs_background": "light"
     },
     "output_type": "display_data"
    }
   ],
   "source": [
    "confusion_matrix = confusion_matrix(y_test, y_pred_logit)\n",
    "df_cm = pd.DataFrame(confusion_matrix, index = [i for i in \"01\"], columns = [i for i in \"01\"])\n",
    "plt.figure(figsize = (6,5))\n",
    "sn.heatmap(df_cm, annot = True)\n",
    "plt.ylabel('Actual Label')\n",
    "plt.xlabel('Predicted Label')\n",
    "plt.show()"
   ]
  },
  {
   "cell_type": "code",
   "execution_count": 13,
   "metadata": {
    "scrolled": true
   },
   "outputs": [
    {
     "name": "stdout",
     "output_type": "stream",
     "text": [
      "              precision    recall  f1-score   support\n",
      "\n",
      "           0       0.71      0.38      0.50        13\n",
      "           1       0.58      0.85      0.69        13\n",
      "\n",
      "    accuracy                           0.62        26\n",
      "   macro avg       0.65      0.62      0.59        26\n",
      "weighted avg       0.65      0.62      0.59        26\n",
      "\n"
     ]
    }
   ],
   "source": [
    "print(classification_report(y_test, y_pred_logit))"
   ]
  },
  {
   "cell_type": "markdown",
   "metadata": {},
   "source": [
    "F1-score accuracy with Logistic Regression is 62%"
   ]
  },
  {
   "cell_type": "markdown",
   "metadata": {},
   "source": [
    "# 2. K Nearest Neighbors"
   ]
  },
  {
   "cell_type": "markdown",
   "metadata": {},
   "source": [
    "K Nearest Neighbors is another popular classification alogorithm. It looks at \"K\" neighbors and classifies the test data point based on majority."
   ]
  },
  {
   "cell_type": "code",
   "execution_count": 14,
   "metadata": {},
   "outputs": [],
   "source": [
    "k_range = range(1,100)                               # Range of k for experimentation\n",
    "scores = {}                                          # Empty dictionary for storing scores for each value of k\n",
    "score_list = []                                      # Empty list for storing scores\n",
    "for k in k_range:                                    # Loop over k\n",
    "    knn = KNeighborsClassifier(n_neighbors = k)      # Build an instance of KNeighborsClassifier Model\n",
    "    knn.fit(X_train, y_train)                        # Fit the model with training data\n",
    "    y_pred_knn = knn.predict(X_test)                 # Make predictions for test data\n",
    "    scores[k] = f1_score(y_test, y_pred_knn)         # Generate F1 score and append to scores dictionary with respective k value\n",
    "    score_list.append(f1_score(y_test, y_pred_knn))  # Append F1 score to score_list dictionary"
   ]
  },
  {
   "cell_type": "code",
   "execution_count": 15,
   "metadata": {},
   "outputs": [
    {
     "data": {
      "image/png": "[encoded data removed]",
      "text/plain": [
       "<Figure size 432x288 with 1 Axes>"
      ]
     },
     "metadata": {
      "needs_background": "light"
     },
     "output_type": "display_data"
    }
   ],
   "source": [
    "%matplotlib inline\n",
    "import matplotlib.pyplot as plt\n",
    "plt.plot(k_range, score_list)                   # Plot Accuracy vs k value\n",
    "plt.xlabel('k value')\n",
    "plt.ylabel('Accuracy')\n",
    "plt.title('KNN - Accuracy vs k value')\n",
    "plt.show()"
   ]
  },
  {
   "cell_type": "code",
   "execution_count": 16,
   "metadata": {},
   "outputs": [
    {
     "data": {
      "text/plain": [
       "0.7407407407407408"
      ]
     },
     "execution_count": 16,
     "metadata": {},
     "output_type": "execute_result"
    }
   ],
   "source": [
    "# Get maximum score\n",
    "max(score_list)"
   ]
  },
  {
   "cell_type": "code",
   "execution_count": 17,
   "metadata": {},
   "outputs": [
    {
     "data": {
      "text/plain": [
       "10"
      ]
     },
     "execution_count": 17,
     "metadata": {},
     "output_type": "execute_result"
    }
   ],
   "source": [
    "# Get K value for maximum score\n",
    "max(scores, key=scores.get)"
   ]
  },
  {
   "cell_type": "markdown",
   "metadata": {},
   "source": [
    "Maximum F1 score accuracy occurs at K=10"
   ]
  },
  {
   "cell_type": "markdown",
   "metadata": {},
   "source": [
    "### Final KNN model"
   ]
  },
  {
   "cell_type": "code",
   "execution_count": 18,
   "metadata": {},
   "outputs": [],
   "source": [
    "knn_f = KNeighborsClassifier(n_neighbors = 10)     # Build an instance of KNeighborsClassifier Model with k=10\n",
    "knn_f.fit(X_train, y_train)                        # Fit the model with training data\n",
    "y_pred_knn_f = knn_f.predict(X_test)               # Make predictions for test data"
   ]
  },
  {
   "cell_type": "code",
   "execution_count": 19,
   "metadata": {},
   "outputs": [
    {
     "name": "stdout",
     "output_type": "stream",
     "text": [
      "              precision    recall  f1-score   support\n",
      "\n",
      "           0       0.75      0.69      0.72        13\n",
      "           1       0.71      0.77      0.74        13\n",
      "\n",
      "    accuracy                           0.73        26\n",
      "   macro avg       0.73      0.73      0.73        26\n",
      "weighted avg       0.73      0.73      0.73        26\n",
      "\n"
     ]
    }
   ],
   "source": [
    "print(classification_report(y_test, y_pred_knn_f))"
   ]
  },
  {
   "cell_type": "markdown",
   "metadata": {},
   "source": [
    "Maximum F1 score accuracy with K Nearest Neighbors is 73% and it occurs at K=10"
   ]
  },
  {
   "cell_type": "markdown",
   "metadata": {},
   "source": [
    "# 3. Decision Tree"
   ]
  },
  {
   "cell_type": "markdown",
   "metadata": {},
   "source": [
    "Decison tree is another classification model which classifies data into categories based on certain tests"
   ]
  },
  {
   "cell_type": "code",
   "execution_count": 20,
   "metadata": {},
   "outputs": [],
   "source": [
    "dtc = DecisionTreeClassifier(random_state = 0)      # Create an instance of DecisionTreeClassifier\n",
    "dtc.fit(X_train, y_train)                           # Fit the model with training data\n",
    "y_pred_dtc = dtc.predict(X_test)                    # Make predictions for test data"
   ]
  },
  {
   "cell_type": "code",
   "execution_count": 21,
   "metadata": {},
   "outputs": [
    {
     "data": {
      "text/plain": [
       "array([0, 1, 1, 0, 1, 1, 1, 1, 1, 0, 0, 0, 0, 1, 0, 0, 0, 1, 0, 0, 0, 1,\n",
       "       0, 0, 1, 1], dtype=int64)"
      ]
     },
     "execution_count": 21,
     "metadata": {},
     "output_type": "execute_result"
    }
   ],
   "source": [
    "y_pred_dtc                                          # Checking predictions"
   ]
  },
  {
   "cell_type": "code",
   "execution_count": 22,
   "metadata": {},
   "outputs": [
    {
     "name": "stdout",
     "output_type": "stream",
     "text": [
      "              precision    recall  f1-score   support\n",
      "\n",
      "           0       0.50      0.54      0.52        13\n",
      "           1       0.50      0.46      0.48        13\n",
      "\n",
      "    accuracy                           0.50        26\n",
      "   macro avg       0.50      0.50      0.50        26\n",
      "weighted avg       0.50      0.50      0.50        26\n",
      "\n"
     ]
    }
   ],
   "source": [
    "print(classification_report(y_test, y_pred_dtc))    # Get classification report"
   ]
  },
  {
   "cell_type": "markdown",
   "metadata": {},
   "source": [
    "F1 score accuracy with Decision Tree Model is 50%"
   ]
  },
  {
   "cell_type": "markdown",
   "metadata": {},
   "source": [
    "Cross Validation - For understanding accuracy when data is split differently for training and testing"
   ]
  },
  {
   "cell_type": "code",
   "execution_count": 23,
   "metadata": {},
   "outputs": [
    {
     "data": {
      "text/plain": [
       "array([0.7, 0.7, 0.5, 0.6, 0.8, 0.5, 0.6, 0.6, 0.8, 0.4])"
      ]
     },
     "execution_count": 23,
     "metadata": {},
     "output_type": "execute_result"
    }
   ],
   "source": [
    "cross_val_score(dtc, X_train, y_train, cv = 10)"
   ]
  },
  {
   "cell_type": "markdown",
   "metadata": {},
   "source": [
    "There's a big variation in the accuracy (from 0.4 to 0.8) which suggests that data is not homogeneous possibly due to low number of data points"
   ]
  },
  {
   "cell_type": "markdown",
   "metadata": {},
   "source": [
    "# 4. Random Forest"
   ]
  },
  {
   "cell_type": "markdown",
   "metadata": {},
   "source": [
    "Random forest is a popular ensemble model. It is an ensemble of multiple decision trees"
   ]
  },
  {
   "cell_type": "code",
   "execution_count": 24,
   "metadata": {},
   "outputs": [],
   "source": [
    "rf = RandomForestClassifier(random_state = 0)    # Create an instance of RandomForestClassifier\n",
    "rf.fit(X_train, y_train)                         # Fit the model with training and test data\n",
    "y_pred_rf = rf.predict(X_test)                   # Make predictions on the test data"
   ]
  },
  {
   "cell_type": "code",
   "execution_count": 25,
   "metadata": {},
   "outputs": [
    {
     "name": "stdout",
     "output_type": "stream",
     "text": [
      "              precision    recall  f1-score   support\n",
      "\n",
      "           0       0.56      0.38      0.45        13\n",
      "           1       0.53      0.69      0.60        13\n",
      "\n",
      "    accuracy                           0.54        26\n",
      "   macro avg       0.54      0.54      0.53        26\n",
      "weighted avg       0.54      0.54      0.53        26\n",
      "\n"
     ]
    }
   ],
   "source": [
    "print(classification_report(y_test, y_pred_rf))  # Generate classification report"
   ]
  },
  {
   "cell_type": "markdown",
   "metadata": {},
   "source": [
    "The F1 score accuracy for Random Forest improved slightly to 54% compared to 50% for Decision Tree model"
   ]
  },
  {
   "cell_type": "markdown",
   "metadata": {},
   "source": [
    "# 5. Gradient Boosting"
   ]
  },
  {
   "cell_type": "code",
   "execution_count": 26,
   "metadata": {},
   "outputs": [],
   "source": [
    "gb = GradientBoostingClassifier(random_state = 0)         # Create an instance of GradientBoostingClassifier\n",
    "gb.fit(X_train, y_train)                                  # Fit the model\n",
    "y_pred_gb = gb.predict(X_test)                            # Make predictions on the test data"
   ]
  },
  {
   "cell_type": "code",
   "execution_count": 27,
   "metadata": {},
   "outputs": [
    {
     "name": "stdout",
     "output_type": "stream",
     "text": [
      "              precision    recall  f1-score   support\n",
      "\n",
      "           0       0.50      0.38      0.43        13\n",
      "           1       0.50      0.62      0.55        13\n",
      "\n",
      "    accuracy                           0.50        26\n",
      "   macro avg       0.50      0.50      0.49        26\n",
      "weighted avg       0.50      0.50      0.49        26\n",
      "\n"
     ]
    }
   ],
   "source": [
    "print(classification_report(y_test, y_pred_gb))           # Generate classification report"
   ]
  },
  {
   "cell_type": "markdown",
   "metadata": {},
   "source": [
    "F1 score accuracy with Gradient Boosting model is 50%"
   ]
  },
  {
   "cell_type": "markdown",
   "metadata": {},
   "source": [
    "Based on the analysis so far, the range of F1 score accuracy is [50%, 73%] for different models. KNN model gives us the best F1 score accuracy of 73% at k=10"
   ]
  },
  {
   "cell_type": "markdown",
   "metadata": {},
   "source": [
    "# Feature Importance"
   ]
  },
  {
   "cell_type": "markdown",
   "metadata": {},
   "source": [
    "Not all features contribute equally in getting the F1-score accuracy. There will be some features which are most important and some which can be eliminated. The following exercise will help us understand feature importance of our 6 independent variables and thereby build a robust model."
   ]
  },
  {
   "cell_type": "markdown",
   "metadata": {},
   "source": [
    "Hypothesis - Based on our Logistic Regression analysis, timely_delivery should be the most important feature"
   ]
  },
  {
   "cell_type": "markdown",
   "metadata": {},
   "source": [
    "### 1. Random Forest feature importance - It is based on Gini importance. Gini importance looks at highest average decrease in 'impurity' to identify important features"
   ]
  },
  {
   "cell_type": "code",
   "execution_count": 28,
   "metadata": {},
   "outputs": [
    {
     "data": {
      "text/plain": [
       "array([0.17070373, 0.16632131, 0.18128957, 0.14844633, 0.17471919,\n",
       "       0.15851988])"
      ]
     },
     "execution_count": 28,
     "metadata": {},
     "output_type": "execute_result"
    }
   ],
   "source": [
    "rf.feature_importances_      # Get Feature importances"
   ]
  },
  {
   "cell_type": "code",
   "execution_count": 29,
   "metadata": {},
   "outputs": [
    {
     "data": {
      "image/png": "[encoded data removed]",
      "text/plain": [
       "<Figure size 432x288 with 1 Axes>"
      ]
     },
     "metadata": {
      "needs_background": "light"
     },
     "output_type": "display_data"
    }
   ],
   "source": [
    "sorted_idx = rf.feature_importances_.argsort()                              # Sorting variables based on importance\n",
    "plt.barh(X.columns[sorted_idx], rf.feature_importances_[sorted_idx])        # Plot bar graph for feature importance\n",
    "plt.title('Random Forest Feature Importance')\n",
    "plt.ylabel('Features')\n",
    "plt.xlabel('Importance')\n",
    "plt.show()"
   ]
  },
  {
   "cell_type": "markdown",
   "metadata": {},
   "source": [
    "All features seem to be almost equally important based on Random Forest feature importance. Ordered_all, courier_satif, timely_delivery, exp_contents are the 4 most important variables.\n",
    "\n",
    "Moreover, Random forest feature importance has certain known drawbacks including its tendency to prefer variables with high cardinality (high number of possible values). Also, in the case of correlated variables, it selects one variable and ignores the other variables."
   ]
  },
  {
   "cell_type": "markdown",
   "metadata": {},
   "source": [
    "### 2. Permuation Importance - This method randomly shuffles features and computes change in model performance and is model agnostic. It also overcomes drawbacks of Random Forest feature importance.\n",
    "\n",
    "Since this method is model agnostic, let's experiment with different models"
   ]
  },
  {
   "cell_type": "markdown",
   "metadata": {},
   "source": [
    "### 2a. Logistic Regression"
   ]
  },
  {
   "cell_type": "code",
   "execution_count": 30,
   "metadata": {},
   "outputs": [
    {
     "data": {
      "image/png": "[encoded data removed]",
      "text/plain": [
       "<Figure size 432x288 with 1 Axes>"
      ]
     },
     "metadata": {
      "needs_background": "light"
     },
     "output_type": "display_data"
    }
   ],
   "source": [
    "perm_importance = permutation_importance(logreg, X_test, y_test)                 # Get feature importance\n",
    "sorted_idx = perm_importance.importances_mean.argsort()                          # Order features based on importance\n",
    "plt.barh(X.columns[sorted_idx], perm_importance.importances_mean[sorted_idx])    # Plot bar graph\n",
    "plt.title('Feature Importance')\n",
    "plt.ylabel('Features')\n",
    "plt.xlabel('Importance')\n",
    "plt.show()"
   ]
  },
  {
   "cell_type": "markdown",
   "metadata": {},
   "source": [
    "### 2b. K Nearest Neighbors"
   ]
  },
  {
   "cell_type": "code",
   "execution_count": 31,
   "metadata": {},
   "outputs": [
    {
     "data": {
      "image/png": "[encoded data removed]",
      "text/plain": [
       "<Figure size 432x288 with 1 Axes>"
      ]
     },
     "metadata": {
      "needs_background": "light"
     },
     "output_type": "display_data"
    }
   ],
   "source": [
    "perm_importance = permutation_importance(knn_f, X_test, y_test)                  # Get feature importance\n",
    "sorted_idx = perm_importance.importances_mean.argsort()                          # Order features based on importance\n",
    "plt.barh(X.columns[sorted_idx], perm_importance.importances_mean[sorted_idx])    # Plot bar graph\n",
    "plt.title('Feature Importance')\n",
    "plt.ylabel('Features')\n",
    "plt.xlabel('Importance')\n",
    "plt.show()"
   ]
  },
  {
   "cell_type": "markdown",
   "metadata": {},
   "source": [
    "### 2c. Decision Tree"
   ]
  },
  {
   "cell_type": "code",
   "execution_count": 32,
   "metadata": {},
   "outputs": [
    {
     "data": {
      "image/png": "[encoded data removed]",
      "text/plain": [
       "<Figure size 432x288 with 1 Axes>"
      ]
     },
     "metadata": {
      "needs_background": "light"
     },
     "output_type": "display_data"
    }
   ],
   "source": [
    "perm_importance = permutation_importance(dtc, X_test, y_test)                  # Get feature importance\n",
    "sorted_idx = perm_importance.importances_mean.argsort()                          # Order features based on importance\n",
    "plt.barh(X.columns[sorted_idx], perm_importance.importances_mean[sorted_idx])    # Plot bar graph\n",
    "plt.title('Feature Importance')\n",
    "plt.ylabel('Features')\n",
    "plt.xlabel('Importance')\n",
    "plt.show()"
   ]
  },
  {
   "cell_type": "markdown",
   "metadata": {},
   "source": [
    "### 2d. Random Forest"
   ]
  },
  {
   "cell_type": "code",
   "execution_count": 33,
   "metadata": {},
   "outputs": [
    {
     "data": {
      "image/png": "[encoded data removed]",
      "text/plain": [
       "<Figure size 432x288 with 1 Axes>"
      ]
     },
     "metadata": {
      "needs_background": "light"
     },
     "output_type": "display_data"
    }
   ],
   "source": [
    "perm_importance = permutation_importance(rf, X_test, y_test)                  # Get feature importance\n",
    "sorted_idx = perm_importance.importances_mean.argsort()                          # Order features based on importance\n",
    "plt.barh(X.columns[sorted_idx], perm_importance.importances_mean[sorted_idx])    # Plot bar graph\n",
    "plt.title('Feature Importance')\n",
    "plt.ylabel('Features')\n",
    "plt.xlabel('Importance')\n",
    "plt.show()"
   ]
  },
  {
   "cell_type": "markdown",
   "metadata": {},
   "source": [
    "### 2e. Gradient Boosting"
   ]
  },
  {
   "cell_type": "code",
   "execution_count": 34,
   "metadata": {},
   "outputs": [
    {
     "data": {
      "image/png": "[encoded data removed]",
      "text/plain": [
       "<Figure size 432x288 with 1 Axes>"
      ]
     },
     "metadata": {
      "needs_background": "light"
     },
     "output_type": "display_data"
    }
   ],
   "source": [
    "perm_importance = permutation_importance(gb, X_test, y_test)                  # Get feature importance\n",
    "sorted_idx = perm_importance.importances_mean.argsort()                          # Order features based on importance\n",
    "plt.barh(X.columns[sorted_idx], perm_importance.importances_mean[sorted_idx])    # Plot bar graph\n",
    "plt.title('Feature Importance')\n",
    "plt.ylabel('Features')\n",
    "plt.xlabel('Importance')\n",
    "plt.show()"
   ]
  },
  {
   "cell_type": "markdown",
   "metadata": {},
   "source": [
    "Based on the above 5 plots, timey_delivery is clearly the most important variable. For other variables, all models give different results. Since KNN has the highest F1 score accuracy, we can go ahead with the results of KNN Permuation Feature importance."
   ]
  },
  {
   "cell_type": "markdown",
   "metadata": {},
   "source": [
    "The most important variables in order are timely_delivery, exp_contents, courier_satisf and good_price"
   ]
  },
  {
   "cell_type": "markdown",
   "metadata": {},
   "source": [
    "### Building KNN model with 4 important variables"
   ]
  },
  {
   "cell_type": "code",
   "execution_count": 35,
   "metadata": {},
   "outputs": [],
   "source": [
    "X_new = X[['timely_delivery', 'exp_contents', 'courier_satisf', 'good_price']]"
   ]
  },
  {
   "cell_type": "code",
   "execution_count": 36,
   "metadata": {},
   "outputs": [
    {
     "name": "stdout",
     "output_type": "stream",
     "text": [
      "     timely_delivery  exp_contents  courier_satisf  good_price\n",
      "116                3             4               1           5\n",
      "13                 4             2               4           5\n",
      "33                 3             2               4           4\n",
      "75                 3             2               4           3\n",
      "26                 3             3               5           5\n",
      "(100, 4)\n",
      "(26, 4)\n"
     ]
    }
   ],
   "source": [
    "X_train_new, X_test_new, y_train_new, y_test_new = train_test_split(X_new, y, test_size = 0.2, random_state = 0)\n",
    "print(X_train_new.head())\n",
    "print(X_train_new.shape)\n",
    "print(X_test_new.shape)"
   ]
  },
  {
   "cell_type": "code",
   "execution_count": 37,
   "metadata": {},
   "outputs": [],
   "source": [
    "k_range = range(1,100)                                       # Range of k for experimentation\n",
    "scores_new = {}                                              # Empty dictionary for storing scores for each value of k\n",
    "score_list_new = []                                          # Empty list for storing scores\n",
    "for k in k_range:                                            # Loop over k\n",
    "    knn = KNeighborsClassifier(n_neighbors = k)              # Build an instance of KNeighborsClassifier Model\n",
    "    knn.fit(X_train_new, y_train_new)                        # Fit the model with training data\n",
    "    y_pred_knn = knn.predict(X_test_new)                     # Make predictions for test data\n",
    "    scores_new[k] = f1_score(y_test_new, y_pred_knn)         # Generate F1 score and append to scores dictionary with respective k value\n",
    "    score_list_new.append(f1_score(y_test_new, y_pred_knn))  # Append F1 score to score_list dictionary"
   ]
  },
  {
   "cell_type": "code",
   "execution_count": 38,
   "metadata": {},
   "outputs": [
    {
     "data": {
      "image/png": "[encoded data removed]",
      "text/plain": [
       "<Figure size 432x288 with 1 Axes>"
      ]
     },
     "metadata": {
      "needs_background": "light"
     },
     "output_type": "display_data"
    }
   ],
   "source": [
    "%matplotlib inline\n",
    "import matplotlib.pyplot as plt\n",
    "plt.plot(k_range, score_list_new)                   # Plot Accuracy vs k value\n",
    "plt.xlabel('k value')\n",
    "plt.ylabel('Accuracy')\n",
    "plt.title('KNN - Accuracy vs k value')\n",
    "plt.show()"
   ]
  },
  {
   "cell_type": "code",
   "execution_count": 39,
   "metadata": {},
   "outputs": [
    {
     "data": {
      "text/plain": [
       "0.8275862068965517"
      ]
     },
     "execution_count": 39,
     "metadata": {},
     "output_type": "execute_result"
    }
   ],
   "source": [
    "# Get maximum score\n",
    "max(score_list_new)"
   ]
  },
  {
   "cell_type": "code",
   "execution_count": 40,
   "metadata": {},
   "outputs": [
    {
     "data": {
      "text/plain": [
       "20"
      ]
     },
     "execution_count": 40,
     "metadata": {},
     "output_type": "execute_result"
    }
   ],
   "source": [
    "# Get K value for maximum score\n",
    "max(scores_new, key=scores_new.get)"
   ]
  },
  {
   "cell_type": "markdown",
   "metadata": {},
   "source": [
    "Maximum F1 score accuracy occurs at K = 20"
   ]
  },
  {
   "cell_type": "markdown",
   "metadata": {},
   "source": [
    "### Final KNN Model"
   ]
  },
  {
   "cell_type": "code",
   "execution_count": 41,
   "metadata": {},
   "outputs": [],
   "source": [
    "knn_f_new = KNeighborsClassifier(n_neighbors = 20)             # Build an instance of KNeighborsClassifier Model with k=10\n",
    "knn_f_new.fit(X_train_new, y_train_new)                        # Fit the model with training data\n",
    "y_pred_knn_f_new = knn_f_new.predict(X_test_new)               # Make predictions for test data"
   ]
  },
  {
   "cell_type": "code",
   "execution_count": 42,
   "metadata": {},
   "outputs": [
    {
     "name": "stdout",
     "output_type": "stream",
     "text": [
      "              precision    recall  f1-score   support\n",
      "\n",
      "           0       0.90      0.69      0.78        13\n",
      "           1       0.75      0.92      0.83        13\n",
      "\n",
      "    accuracy                           0.81        26\n",
      "   macro avg       0.82      0.81      0.81        26\n",
      "weighted avg       0.83      0.81      0.81        26\n",
      "\n"
     ]
    }
   ],
   "source": [
    "print(classification_report(y_test_new, y_pred_knn_f_new))"
   ]
  },
  {
   "cell_type": "markdown",
   "metadata": {},
   "source": [
    "Maximum KNN F1 score accuracy using only 4 important variables comes out to 81% when k = 20"
   ]
  },
  {
   "cell_type": "markdown",
   "metadata": {},
   "source": [
    "Removing 2 least important features led to a 8% increase in F1 score accuracy in the KNN model. Since it is a significant increase in accuracy, it is in our best interest to use the KNN model with 4 important independent variables."
   ]
  },
  {
   "cell_type": "markdown",
   "metadata": {},
   "source": [
    "# Recursive Feature Elimination (RFECV)\n",
    "\n",
    "Recursive Feature Elimination is a popular technique to iterately remove less important variables and finally arrive at an optimal model with few important features"
   ]
  },
  {
   "cell_type": "code",
   "execution_count": 43,
   "metadata": {},
   "outputs": [
    {
     "data": {
      "text/plain": [
       "RFECV(cv=StratifiedKFold(n_splits=10, random_state=None, shuffle=False),\n",
       "      estimator=RandomForestClassifier(random_state=0), scoring='f1_macro')"
      ]
     },
     "execution_count": 43,
     "metadata": {},
     "output_type": "execute_result"
    }
   ],
   "source": [
    "rfecv = RFECV(estimator = rf, step = 1, cv = StratifiedKFold(10), scoring = 'f1_macro')  # Creating an instance of RFECV usin Random Forest as estimator\n",
    "rfecv.fit(X,y)                                                                           # Fitting data into rfecv"
   ]
  },
  {
   "cell_type": "code",
   "execution_count": 44,
   "metadata": {},
   "outputs": [
    {
     "name": "stdout",
     "output_type": "stream",
     "text": [
      "Optimal number of features: 4\n"
     ]
    }
   ],
   "source": [
    "print('Optimal number of features: {}'.format(rfecv.n_features_))"
   ]
  },
  {
   "cell_type": "markdown",
   "metadata": {},
   "source": [
    "Optimal number of features for RFECV with Random Forest as estimator is 4"
   ]
  },
  {
   "cell_type": "code",
   "execution_count": 45,
   "metadata": {
    "scrolled": true
   },
   "outputs": [
    {
     "data": {
      "image/png": "[encoded data removed]",
      "text/plain": [
       "<Figure size 432x288 with 1 Axes>"
      ]
     },
     "metadata": {
      "needs_background": "light"
     },
     "output_type": "display_data"
    }
   ],
   "source": [
    "plt.plot(range(1, len(rfecv.grid_scores_)+1), rfecv.grid_scores_)\n",
    "plt.title(\"F1 score accuracy vs number of features\")\n",
    "plt.xlabel('Number of features')\n",
    "plt.ylabel(\"F1 score (Macro)\")\n",
    "plt.show()"
   ]
  },
  {
   "cell_type": "code",
   "execution_count": 46,
   "metadata": {},
   "outputs": [
    {
     "data": {
      "text/plain": [
       "0.5767478354978357"
      ]
     },
     "execution_count": 46,
     "metadata": {},
     "output_type": "execute_result"
    }
   ],
   "source": [
    "max(rfecv.grid_scores_)"
   ]
  },
  {
   "cell_type": "markdown",
   "metadata": {},
   "source": [
    "Maximum F1 score accuracy is 57.67% when number of features is 4"
   ]
  },
  {
   "cell_type": "code",
   "execution_count": 47,
   "metadata": {},
   "outputs": [
    {
     "data": {
      "text/plain": [
       "array([0.17070373, 0.16632131, 0.18128957, 0.14844633, 0.17471919,\n",
       "       0.15851988])"
      ]
     },
     "execution_count": 47,
     "metadata": {},
     "output_type": "execute_result"
    }
   ],
   "source": [
    "rfecv.estimator.feature_importances_"
   ]
  },
  {
   "cell_type": "code",
   "execution_count": 48,
   "metadata": {},
   "outputs": [
    {
     "data": {
      "image/png": "[encoded data removed]",
      "text/plain": [
       "<Figure size 432x288 with 1 Axes>"
      ]
     },
     "metadata": {
      "needs_background": "light"
     },
     "output_type": "display_data"
    }
   ],
   "source": [
    "sorted_idx = rfecv.estimator.feature_importances_.argsort()                          # Order features based on importance\n",
    "plt.barh(X.columns[sorted_idx], rfecv.estimator.feature_importances_[sorted_idx])   # Plot bar graph\n",
    "plt.title('Feature Importance')\n",
    "plt.ylabel('Features')\n",
    "plt.xlabel('Importance')\n",
    "plt.show()"
   ]
  },
  {
   "cell_type": "markdown",
   "metadata": {},
   "source": [
    "Ordered_all, courier_satif, timely_delivery, exp_contents are the 4 most important variables according to RFECV. This is the exact same result compared to Random Forest feature importance."
   ]
  },
  {
   "cell_type": "markdown",
   "metadata": {},
   "source": [
    "# Oversampling and Undersampling"
   ]
  },
  {
   "cell_type": "markdown",
   "metadata": {},
   "source": [
    "There is a minor imbalance in our training dataset (1 - 56 datapoints, 0 - 44 datapoints). Let's try oversampling and undersampling techniques to balance our dataset and see whether it increases our F1 score accuracy."
   ]
  },
  {
   "cell_type": "code",
   "execution_count": 49,
   "metadata": {},
   "outputs": [
    {
     "data": {
      "text/plain": [
       "Counter({1: 56, 0: 44})"
      ]
     },
     "execution_count": 49,
     "metadata": {},
     "output_type": "execute_result"
    }
   ],
   "source": [
    "# Current classfication distribution in training dataset\n",
    "Counter(y_train)"
   ]
  },
  {
   "cell_type": "markdown",
   "metadata": {},
   "source": [
    "Lets start with Oversampling first. We'll create synthetic observations only for the training dataset and not the test dataset. This will keep our test dataset pure and without synthetic samples."
   ]
  },
  {
   "cell_type": "code",
   "execution_count": 50,
   "metadata": {
    "scrolled": true
   },
   "outputs": [
    {
     "data": {
      "text/plain": [
       "Counter({1: 56, 0: 56})"
      ]
     },
     "execution_count": 50,
     "metadata": {},
     "output_type": "execute_result"
    }
   ],
   "source": [
    "ros = RandomOverSampler()                               # Create and instance of RandomOverSampler\n",
    "X_ros, y_ros = ros.fit_resample(X_train, y_train)       # Resample training data\n",
    "Counter(y_ros)                                          # Class distribution after oversampling"
   ]
  },
  {
   "cell_type": "markdown",
   "metadata": {},
   "source": [
    "Both classes are now balanced as each class has 56 datapoints"
   ]
  },
  {
   "cell_type": "markdown",
   "metadata": {},
   "source": [
    "### Building KNN model with oversampled training data"
   ]
  },
  {
   "cell_type": "code",
   "execution_count": 51,
   "metadata": {},
   "outputs": [],
   "source": [
    "k_range = range(1,100)                                     # Range of k for experimentation\n",
    "scores_os = {}                                             # Empty dictionary for storing scores for each value of k\n",
    "score_list_os = []                                         # Empty list for storing scores\n",
    "for k in k_range:                                          # Loop over k\n",
    "    knn = KNeighborsClassifier(n_neighbors = k)            # Build an instance of KNeighborsClassifier Model\n",
    "    knn.fit(X_ros, y_ros)                                  # Fit the model with training data\n",
    "    y_pred_knn_os = knn.predict(X_test)                    # Make predictions for test data\n",
    "    scores_os[k] = f1_score(y_test, y_pred_knn_os)         # Generate F1 score and append to scores dictionary with respective k value\n",
    "    score_list_os.append(f1_score(y_test, y_pred_knn_os))  # Append F1 score to score_list_os dictionary"
   ]
  },
  {
   "cell_type": "code",
   "execution_count": 52,
   "metadata": {},
   "outputs": [
    {
     "data": {
      "image/png": "[encoded data removed]",
      "text/plain": [
       "<Figure size 432x288 with 1 Axes>"
      ]
     },
     "metadata": {
      "needs_background": "light"
     },
     "output_type": "display_data"
    }
   ],
   "source": [
    "%matplotlib inline\n",
    "import matplotlib.pyplot as plt\n",
    "plt.plot(k_range, score_list_os)                   # Plot Accuracy vs k value\n",
    "plt.xlabel('k value')\n",
    "plt.ylabel('Accuracy')\n",
    "plt.title('KNN - Accuracy vs k value')\n",
    "plt.show()"
   ]
  },
  {
   "cell_type": "code",
   "execution_count": 53,
   "metadata": {},
   "outputs": [
    {
     "data": {
      "text/plain": [
       "0.7199999999999999"
      ]
     },
     "execution_count": 53,
     "metadata": {},
     "output_type": "execute_result"
    }
   ],
   "source": [
    "# Get maximum score\n",
    "max(score_list_os)"
   ]
  },
  {
   "cell_type": "code",
   "execution_count": 54,
   "metadata": {},
   "outputs": [
    {
     "data": {
      "text/plain": [
       "14"
      ]
     },
     "execution_count": 54,
     "metadata": {},
     "output_type": "execute_result"
    }
   ],
   "source": [
    "# Get K value for maximum score\n",
    "max(scores_os, key=scores_os.get)"
   ]
  },
  {
   "cell_type": "markdown",
   "metadata": {},
   "source": [
    "Oversampling increases maximum F1 score accuracy marginally with KNN model for test dataset but it is significantly lower than 81% F1 score accuracy achieved using 4 important variables. "
   ]
  },
  {
   "cell_type": "markdown",
   "metadata": {},
   "source": [
    "Let's now see whether undersampling increases accuracy."
   ]
  },
  {
   "cell_type": "code",
   "execution_count": 55,
   "metadata": {},
   "outputs": [
    {
     "data": {
      "text/plain": [
       "Counter({0: 44, 1: 44})"
      ]
     },
     "execution_count": 55,
     "metadata": {},
     "output_type": "execute_result"
    }
   ],
   "source": [
    "rus = RandomUnderSampler()                               # Create and instance of RandomUnderSampler\n",
    "X_rus, y_rus = rus.fit_resample(X_train, y_train)        # Resample training data\n",
    "Counter(y_rus)                                           # Class distribution after undersampling"
   ]
  },
  {
   "cell_type": "markdown",
   "metadata": {},
   "source": [
    "Both classes are now balanced as each class has 44 datapoints"
   ]
  },
  {
   "cell_type": "markdown",
   "metadata": {},
   "source": [
    "### Building KNN model with undersampled training data"
   ]
  },
  {
   "cell_type": "code",
   "execution_count": 56,
   "metadata": {},
   "outputs": [],
   "source": [
    "k_range = range(1,80)                                     # Range of k for experimentation\n",
    "scores_us = {}                                             # Empty dictionary for storing scores for each value of k\n",
    "score_list_us = []                                         # Empty list for storing scores\n",
    "for k in k_range:                                          # Loop over k\n",
    "    knn = KNeighborsClassifier(n_neighbors = k)            # Build an instance of KNeighborsClassifier Model\n",
    "    knn.fit(X_rus, y_rus)                                  # Fit the model with training data\n",
    "    y_pred_knn_us = knn.predict(X_test)                    # Make predictions for test data\n",
    "    scores_us[k] = f1_score(y_test, y_pred_knn_us)         # Generate F1 score and append to scores dictionary with respective k value\n",
    "    score_list_us.append(f1_score(y_test, y_pred_knn_us))  # Append F1 score to score_list_us dictionary"
   ]
  },
  {
   "cell_type": "code",
   "execution_count": 57,
   "metadata": {},
   "outputs": [
    {
     "data": {
      "image/png": "[encoded data removed]",
      "text/plain": [
       "<Figure size 432x288 with 1 Axes>"
      ]
     },
     "metadata": {
      "needs_background": "light"
     },
     "output_type": "display_data"
    }
   ],
   "source": [
    "%matplotlib inline\n",
    "import matplotlib.pyplot as plt\n",
    "plt.plot(k_range, score_list_us)                   # Plot Accuracy vs k value\n",
    "plt.xlabel('k value')\n",
    "plt.ylabel('Accuracy')\n",
    "plt.title('KNN - Accuracy vs k value')\n",
    "plt.show()"
   ]
  },
  {
   "cell_type": "code",
   "execution_count": 58,
   "metadata": {},
   "outputs": [
    {
     "data": {
      "text/plain": [
       "0.7407407407407408"
      ]
     },
     "execution_count": 58,
     "metadata": {},
     "output_type": "execute_result"
    }
   ],
   "source": [
    "# Get maximum score\n",
    "max(score_list_us)"
   ]
  },
  {
   "cell_type": "code",
   "execution_count": 59,
   "metadata": {},
   "outputs": [
    {
     "data": {
      "text/plain": [
       "67"
      ]
     },
     "execution_count": 59,
     "metadata": {},
     "output_type": "execute_result"
    }
   ],
   "source": [
    "# Get K value for maximum score\n",
    "max(scores_us, key=scores_us.get)"
   ]
  },
  {
   "cell_type": "markdown",
   "metadata": {},
   "source": [
    "Maximum F1 score accuracy with undersampled model occurs at K = 54"
   ]
  },
  {
   "cell_type": "markdown",
   "metadata": {},
   "source": [
    "### Building final KNN model with undersampled training data and K = 67"
   ]
  },
  {
   "cell_type": "code",
   "execution_count": 96,
   "metadata": {},
   "outputs": [],
   "source": [
    "knn_f_us = KNeighborsClassifier(n_neighbors = 67)     # Build an instance of KNeighborsClassifier Model with k=10\n",
    "knn_f_us.fit(X_rus, y_rus)                            # Fit the model with training data\n",
    "y_pred_knn_f_us = knn_f_us.predict(X_test)            # Make predictions for test data"
   ]
  },
  {
   "cell_type": "code",
   "execution_count": 97,
   "metadata": {},
   "outputs": [
    {
     "name": "stdout",
     "output_type": "stream",
     "text": [
      "              precision    recall  f1-score   support\n",
      "\n",
      "           0       0.75      0.69      0.72        13\n",
      "           1       0.71      0.77      0.74        13\n",
      "\n",
      "    accuracy                           0.73        26\n",
      "   macro avg       0.73      0.73      0.73        26\n",
      "weighted avg       0.73      0.73      0.73        26\n",
      "\n"
     ]
    }
   ],
   "source": [
    "print(classification_report(y_test, y_pred_knn_f_us))"
   ]
  },
  {
   "cell_type": "markdown",
   "metadata": {},
   "source": [
    "Undersampled KNN model increases F1 score accuracy significantly to 77% but it is still lower than 81% F1 score accuracy using 4 important variables"
   ]
  },
  {
   "cell_type": "markdown",
   "metadata": {},
   "source": [
    "## KNN model with undersampling and feature importance"
   ]
  },
  {
   "cell_type": "markdown",
   "metadata": {},
   "source": [
    "Based on the analysis so far, we noticed that our F1 score accuracy increased due to 2 reasons\n",
    "1. Choosing important variables using feature importance\n",
    "2. Undersampling\n",
    "\n",
    "Lets try to build a model with a combination of both these things"
   ]
  },
  {
   "cell_type": "code",
   "execution_count": 62,
   "metadata": {},
   "outputs": [
    {
     "data": {
      "text/plain": [
       "Counter({0: 44, 1: 44})"
      ]
     },
     "execution_count": 62,
     "metadata": {},
     "output_type": "execute_result"
    }
   ],
   "source": [
    "rus_new = RandomUnderSampler()                                               # Create and instance of RandomUnderSampler\n",
    "X_rus_new, y_rus_new = rus_new.fit_resample(X_train_new, y_train_new)        # Resample training data\n",
    "Counter(y_rus)  "
   ]
  },
  {
   "cell_type": "markdown",
   "metadata": {},
   "source": [
    "Both classes are now balanced as each class has 44 datapoints"
   ]
  },
  {
   "cell_type": "markdown",
   "metadata": {},
   "source": [
    "### Building KNN model with undersampled training data and 4 important variables"
   ]
  },
  {
   "cell_type": "code",
   "execution_count": 63,
   "metadata": {},
   "outputs": [],
   "source": [
    "k_range = range(1,80)                                                  # Range of k for experimentation\n",
    "scores_us_new = {}                                                     # Empty dictionary for storing scores for each value of k\n",
    "score_list_us_new = []                                                 # Empty list for storing scores\n",
    "for k in k_range:                                                      # Loop over k\n",
    "    knn = KNeighborsClassifier(n_neighbors = k)                        # Build an instance of KNeighborsClassifier Model\n",
    "    knn.fit(X_rus_new, y_rus_new)                                      # Fit the model with training data\n",
    "    y_pred_knn_us_new = knn.predict(X_test_new)                        # Make predictions for test data\n",
    "    scores_us_new[k] = f1_score(y_test_new, y_pred_knn_us_new)         # Generate F1 score and append to scores dictionary with respective k value\n",
    "    score_list_us_new.append(f1_score(y_test_new, y_pred_knn_us_new))  # Append F1 score to score_list_us dictionary"
   ]
  },
  {
   "cell_type": "code",
   "execution_count": 64,
   "metadata": {},
   "outputs": [
    {
     "data": {
      "image/png": "[encoded data removed]",
      "text/plain": [
       "<Figure size 432x288 with 1 Axes>"
      ]
     },
     "metadata": {
      "needs_background": "light"
     },
     "output_type": "display_data"
    }
   ],
   "source": [
    "%matplotlib inline\n",
    "import matplotlib.pyplot as plt\n",
    "plt.plot(k_range, score_list_us_new)                   # Plot Accuracy vs k value\n",
    "plt.xlabel('k value')\n",
    "plt.ylabel('Accuracy')\n",
    "plt.title('KNN - Accuracy vs k value')\n",
    "plt.show()"
   ]
  },
  {
   "cell_type": "code",
   "execution_count": 65,
   "metadata": {},
   "outputs": [
    {
     "data": {
      "text/plain": [
       "0.7741935483870968"
      ]
     },
     "execution_count": 65,
     "metadata": {},
     "output_type": "execute_result"
    }
   ],
   "source": [
    "# Get maximum score\n",
    "max(score_list_us_new)"
   ]
  },
  {
   "cell_type": "code",
   "execution_count": 66,
   "metadata": {},
   "outputs": [
    {
     "data": {
      "text/plain": [
       "7"
      ]
     },
     "execution_count": 66,
     "metadata": {},
     "output_type": "execute_result"
    }
   ],
   "source": [
    "# Get K value for maximum score\n",
    "max(scores_us_new, key=scores_us_new.get)"
   ]
  },
  {
   "cell_type": "markdown",
   "metadata": {},
   "source": [
    "Maximum F1 score accuracy remains in mid-seventies which is significantly lower than 81% F1 score accuracy achieved by KNN model with 4 important variables."
   ]
  },
  {
   "cell_type": "markdown",
   "metadata": {},
   "source": [
    "# Lazy Predict"
   ]
  },
  {
   "cell_type": "markdown",
   "metadata": {},
   "source": [
    "LazyPredict is a Python library which analyzes a bunch of models with few lines of codes. Once we have a bunch of models and their F1 scores, we can run top 3 models and analyze the cross validation score."
   ]
  },
  {
   "cell_type": "code",
   "execution_count": 67,
   "metadata": {},
   "outputs": [
    {
     "name": "stderr",
     "output_type": "stream",
     "text": [
      "100%|██████████████████████████████████████████████████████████████████████████████████| 29/29 [00:02<00:00, 12.29it/s]\n"
     ]
    },
    {
     "data": {
      "text/html": [
       "<div>\n",
       "<style scoped>\n",
       "    .dataframe tbody tr th:only-of-type {\n",
       "        vertical-align: middle;\n",
       "    }\n",
       "\n",
       "    .dataframe tbody tr th {\n",
       "        vertical-align: top;\n",
       "    }\n",
       "\n",
       "    .dataframe thead th {\n",
       "        text-align: right;\n",
       "    }\n",
       "</style>\n",
       "<table border=\"1\" class=\"dataframe\">\n",
       "  <thead>\n",
       "    <tr style=\"text-align: right;\">\n",
       "      <th></th>\n",
       "      <th>Accuracy</th>\n",
       "      <th>Balanced Accuracy</th>\n",
       "      <th>ROC AUC</th>\n",
       "      <th>F1 Score</th>\n",
       "      <th>Time Taken</th>\n",
       "    </tr>\n",
       "    <tr>\n",
       "      <th>Model</th>\n",
       "      <th></th>\n",
       "      <th></th>\n",
       "      <th></th>\n",
       "      <th></th>\n",
       "      <th></th>\n",
       "    </tr>\n",
       "  </thead>\n",
       "  <tbody>\n",
       "    <tr>\n",
       "      <th>Perceptron</th>\n",
       "      <td>0.73</td>\n",
       "      <td>0.73</td>\n",
       "      <td>0.73</td>\n",
       "      <td>0.71</td>\n",
       "      <td>0.02</td>\n",
       "    </tr>\n",
       "    <tr>\n",
       "      <th>PassiveAggressiveClassifier</th>\n",
       "      <td>0.69</td>\n",
       "      <td>0.69</td>\n",
       "      <td>0.69</td>\n",
       "      <td>0.69</td>\n",
       "      <td>0.03</td>\n",
       "    </tr>\n",
       "    <tr>\n",
       "      <th>NearestCentroid</th>\n",
       "      <td>0.69</td>\n",
       "      <td>0.69</td>\n",
       "      <td>0.69</td>\n",
       "      <td>0.69</td>\n",
       "      <td>0.02</td>\n",
       "    </tr>\n",
       "    <tr>\n",
       "      <th>LGBMClassifier</th>\n",
       "      <td>0.65</td>\n",
       "      <td>0.65</td>\n",
       "      <td>0.65</td>\n",
       "      <td>0.65</td>\n",
       "      <td>0.06</td>\n",
       "    </tr>\n",
       "    <tr>\n",
       "      <th>BernoulliNB</th>\n",
       "      <td>0.62</td>\n",
       "      <td>0.62</td>\n",
       "      <td>0.62</td>\n",
       "      <td>0.61</td>\n",
       "      <td>0.02</td>\n",
       "    </tr>\n",
       "    <tr>\n",
       "      <th>SGDClassifier</th>\n",
       "      <td>0.62</td>\n",
       "      <td>0.62</td>\n",
       "      <td>0.62</td>\n",
       "      <td>0.62</td>\n",
       "      <td>0.02</td>\n",
       "    </tr>\n",
       "    <tr>\n",
       "      <th>GaussianNB</th>\n",
       "      <td>0.62</td>\n",
       "      <td>0.62</td>\n",
       "      <td>0.62</td>\n",
       "      <td>0.61</td>\n",
       "      <td>0.02</td>\n",
       "    </tr>\n",
       "    <tr>\n",
       "      <th>LogisticRegression</th>\n",
       "      <td>0.62</td>\n",
       "      <td>0.62</td>\n",
       "      <td>0.62</td>\n",
       "      <td>0.59</td>\n",
       "      <td>0.02</td>\n",
       "    </tr>\n",
       "    <tr>\n",
       "      <th>LinearDiscriminantAnalysis</th>\n",
       "      <td>0.58</td>\n",
       "      <td>0.58</td>\n",
       "      <td>0.58</td>\n",
       "      <td>0.54</td>\n",
       "      <td>0.14</td>\n",
       "    </tr>\n",
       "    <tr>\n",
       "      <th>XGBClassifier</th>\n",
       "      <td>0.58</td>\n",
       "      <td>0.58</td>\n",
       "      <td>0.58</td>\n",
       "      <td>0.57</td>\n",
       "      <td>1.11</td>\n",
       "    </tr>\n",
       "    <tr>\n",
       "      <th>RidgeClassifierCV</th>\n",
       "      <td>0.58</td>\n",
       "      <td>0.58</td>\n",
       "      <td>0.58</td>\n",
       "      <td>0.54</td>\n",
       "      <td>0.02</td>\n",
       "    </tr>\n",
       "    <tr>\n",
       "      <th>RidgeClassifier</th>\n",
       "      <td>0.58</td>\n",
       "      <td>0.58</td>\n",
       "      <td>0.58</td>\n",
       "      <td>0.54</td>\n",
       "      <td>0.13</td>\n",
       "    </tr>\n",
       "    <tr>\n",
       "      <th>LinearSVC</th>\n",
       "      <td>0.58</td>\n",
       "      <td>0.58</td>\n",
       "      <td>0.58</td>\n",
       "      <td>0.54</td>\n",
       "      <td>0.02</td>\n",
       "    </tr>\n",
       "    <tr>\n",
       "      <th>LabelSpreading</th>\n",
       "      <td>0.58</td>\n",
       "      <td>0.58</td>\n",
       "      <td>0.58</td>\n",
       "      <td>0.58</td>\n",
       "      <td>0.01</td>\n",
       "    </tr>\n",
       "    <tr>\n",
       "      <th>LabelPropagation</th>\n",
       "      <td>0.58</td>\n",
       "      <td>0.58</td>\n",
       "      <td>0.58</td>\n",
       "      <td>0.58</td>\n",
       "      <td>0.03</td>\n",
       "    </tr>\n",
       "    <tr>\n",
       "      <th>ExtraTreeClassifier</th>\n",
       "      <td>0.58</td>\n",
       "      <td>0.58</td>\n",
       "      <td>0.58</td>\n",
       "      <td>0.58</td>\n",
       "      <td>0.02</td>\n",
       "    </tr>\n",
       "    <tr>\n",
       "      <th>BaggingClassifier</th>\n",
       "      <td>0.54</td>\n",
       "      <td>0.54</td>\n",
       "      <td>0.54</td>\n",
       "      <td>0.54</td>\n",
       "      <td>0.04</td>\n",
       "    </tr>\n",
       "    <tr>\n",
       "      <th>QuadraticDiscriminantAnalysis</th>\n",
       "      <td>0.54</td>\n",
       "      <td>0.54</td>\n",
       "      <td>0.54</td>\n",
       "      <td>0.53</td>\n",
       "      <td>0.06</td>\n",
       "    </tr>\n",
       "    <tr>\n",
       "      <th>CalibratedClassifierCV</th>\n",
       "      <td>0.54</td>\n",
       "      <td>0.54</td>\n",
       "      <td>0.54</td>\n",
       "      <td>0.41</td>\n",
       "      <td>0.04</td>\n",
       "    </tr>\n",
       "    <tr>\n",
       "      <th>ExtraTreesClassifier</th>\n",
       "      <td>0.50</td>\n",
       "      <td>0.50</td>\n",
       "      <td>0.50</td>\n",
       "      <td>0.49</td>\n",
       "      <td>0.14</td>\n",
       "    </tr>\n",
       "    <tr>\n",
       "      <th>RandomForestClassifier</th>\n",
       "      <td>0.50</td>\n",
       "      <td>0.50</td>\n",
       "      <td>0.50</td>\n",
       "      <td>0.49</td>\n",
       "      <td>0.18</td>\n",
       "    </tr>\n",
       "    <tr>\n",
       "      <th>DummyClassifier</th>\n",
       "      <td>0.50</td>\n",
       "      <td>0.50</td>\n",
       "      <td>0.50</td>\n",
       "      <td>0.49</td>\n",
       "      <td>0.04</td>\n",
       "    </tr>\n",
       "    <tr>\n",
       "      <th>SVC</th>\n",
       "      <td>0.50</td>\n",
       "      <td>0.50</td>\n",
       "      <td>0.50</td>\n",
       "      <td>0.49</td>\n",
       "      <td>0.02</td>\n",
       "    </tr>\n",
       "    <tr>\n",
       "      <th>DecisionTreeClassifier</th>\n",
       "      <td>0.46</td>\n",
       "      <td>0.46</td>\n",
       "      <td>0.46</td>\n",
       "      <td>0.46</td>\n",
       "      <td>0.02</td>\n",
       "    </tr>\n",
       "    <tr>\n",
       "      <th>NuSVC</th>\n",
       "      <td>0.42</td>\n",
       "      <td>0.42</td>\n",
       "      <td>0.42</td>\n",
       "      <td>0.42</td>\n",
       "      <td>0.02</td>\n",
       "    </tr>\n",
       "    <tr>\n",
       "      <th>KNeighborsClassifier</th>\n",
       "      <td>0.42</td>\n",
       "      <td>0.42</td>\n",
       "      <td>0.42</td>\n",
       "      <td>0.42</td>\n",
       "      <td>0.02</td>\n",
       "    </tr>\n",
       "    <tr>\n",
       "      <th>AdaBoostClassifier</th>\n",
       "      <td>0.42</td>\n",
       "      <td>0.42</td>\n",
       "      <td>0.42</td>\n",
       "      <td>0.42</td>\n",
       "      <td>0.12</td>\n",
       "    </tr>\n",
       "  </tbody>\n",
       "</table>\n",
       "</div>"
      ],
      "text/plain": [
       "                               Accuracy  Balanced Accuracy  ROC AUC  F1 Score  \\\n",
       "Model                                                                           \n",
       "Perceptron                         0.73               0.73     0.73      0.71   \n",
       "PassiveAggressiveClassifier        0.69               0.69     0.69      0.69   \n",
       "NearestCentroid                    0.69               0.69     0.69      0.69   \n",
       "LGBMClassifier                     0.65               0.65     0.65      0.65   \n",
       "BernoulliNB                        0.62               0.62     0.62      0.61   \n",
       "SGDClassifier                      0.62               0.62     0.62      0.62   \n",
       "GaussianNB                         0.62               0.62     0.62      0.61   \n",
       "LogisticRegression                 0.62               0.62     0.62      0.59   \n",
       "LinearDiscriminantAnalysis         0.58               0.58     0.58      0.54   \n",
       "XGBClassifier                      0.58               0.58     0.58      0.57   \n",
       "RidgeClassifierCV                  0.58               0.58     0.58      0.54   \n",
       "RidgeClassifier                    0.58               0.58     0.58      0.54   \n",
       "LinearSVC                          0.58               0.58     0.58      0.54   \n",
       "LabelSpreading                     0.58               0.58     0.58      0.58   \n",
       "LabelPropagation                   0.58               0.58     0.58      0.58   \n",
       "ExtraTreeClassifier                0.58               0.58     0.58      0.58   \n",
       "BaggingClassifier                  0.54               0.54     0.54      0.54   \n",
       "QuadraticDiscriminantAnalysis      0.54               0.54     0.54      0.53   \n",
       "CalibratedClassifierCV             0.54               0.54     0.54      0.41   \n",
       "ExtraTreesClassifier               0.50               0.50     0.50      0.49   \n",
       "RandomForestClassifier             0.50               0.50     0.50      0.49   \n",
       "DummyClassifier                    0.50               0.50     0.50      0.49   \n",
       "SVC                                0.50               0.50     0.50      0.49   \n",
       "DecisionTreeClassifier             0.46               0.46     0.46      0.46   \n",
       "NuSVC                              0.42               0.42     0.42      0.42   \n",
       "KNeighborsClassifier               0.42               0.42     0.42      0.42   \n",
       "AdaBoostClassifier                 0.42               0.42     0.42      0.42   \n",
       "\n",
       "                               Time Taken  \n",
       "Model                                      \n",
       "Perceptron                           0.02  \n",
       "PassiveAggressiveClassifier          0.03  \n",
       "NearestCentroid                      0.02  \n",
       "LGBMClassifier                       0.06  \n",
       "BernoulliNB                          0.02  \n",
       "SGDClassifier                        0.02  \n",
       "GaussianNB                           0.02  \n",
       "LogisticRegression                   0.02  \n",
       "LinearDiscriminantAnalysis           0.14  \n",
       "XGBClassifier                        1.11  \n",
       "RidgeClassifierCV                    0.02  \n",
       "RidgeClassifier                      0.13  \n",
       "LinearSVC                            0.02  \n",
       "LabelSpreading                       0.01  \n",
       "LabelPropagation                     0.03  \n",
       "ExtraTreeClassifier                  0.02  \n",
       "BaggingClassifier                    0.04  \n",
       "QuadraticDiscriminantAnalysis        0.06  \n",
       "CalibratedClassifierCV               0.04  \n",
       "ExtraTreesClassifier                 0.14  \n",
       "RandomForestClassifier               0.18  \n",
       "DummyClassifier                      0.04  \n",
       "SVC                                  0.02  \n",
       "DecisionTreeClassifier               0.02  \n",
       "NuSVC                                0.02  \n",
       "KNeighborsClassifier                 0.02  \n",
       "AdaBoostClassifier                   0.12  "
      ]
     },
     "execution_count": 67,
     "metadata": {},
     "output_type": "execute_result"
    }
   ],
   "source": [
    "lzy = LazyClassifier(predictions = True)                              # Create an instance of LazyClassifier\n",
    "models, predictions = lzy.fit(X_train, X_test, y_train, y_test)       # Fit train and test data\n",
    "models                                                                # Generate results for various models"
   ]
  },
  {
   "cell_type": "markdown",
   "metadata": {},
   "source": [
    "Perceptron, PassiveAggressiveClassifier and NearestCentroid have the highest F1 score accuracy among all the models but it is still way lower than 81% F1 score accuracy predicted by our KNN model. The F1 score accuracy for LazyPrecict's KNN model is shockingly only 42% possibly because the optimized K wasn't selected."
   ]
  },
  {
   "cell_type": "markdown",
   "metadata": {},
   "source": [
    "Now lets build the models for top 3 winning models predicted by Lazypredict and compare F1 score accuracy with 81% F1 score accuracy achieved earlier using KNN with 4 important variables."
   ]
  },
  {
   "cell_type": "markdown",
   "metadata": {},
   "source": [
    "### 1. Perceptron"
   ]
  },
  {
   "cell_type": "code",
   "execution_count": 89,
   "metadata": {},
   "outputs": [
    {
     "data": {
      "text/plain": [
       "Perceptron(eta0=0.1, n_iter_no_change=40)"
      ]
     },
     "execution_count": 89,
     "metadata": {},
     "output_type": "execute_result"
    }
   ],
   "source": [
    "ppn = Perceptron(eta0 = 0.1, n_iter_no_change = 40, random_state = 0)      # Create an instance of Perceptron \n",
    "# eta0 - learning rate, n_iter_no_change - number of iterations\n",
    "ppn.fit(X_train, y_train)"
   ]
  },
  {
   "cell_type": "code",
   "execution_count": 90,
   "metadata": {},
   "outputs": [
    {
     "name": "stdout",
     "output_type": "stream",
     "text": [
      "              precision    recall  f1-score   support\n",
      "\n",
      "           0       0.50      1.00      0.67        13\n",
      "           1       0.00      0.00      0.00        13\n",
      "\n",
      "    accuracy                           0.50        26\n",
      "   macro avg       0.25      0.50      0.33        26\n",
      "weighted avg       0.25      0.50      0.33        26\n",
      "\n"
     ]
    }
   ],
   "source": [
    "print(classification_report(y_test, ppn.predict(X_test)))"
   ]
  },
  {
   "cell_type": "markdown",
   "metadata": {},
   "source": [
    "F1 score accuracy accuracy is only 50% compared to 71% predicted by LazyPredict's Perceptron model. Notably, F1 score accuracy is 0 for class 1."
   ]
  },
  {
   "cell_type": "code",
   "execution_count": 95,
   "metadata": {},
   "outputs": [
    {
     "data": {
      "text/plain": [
       "array([0.6, 0.5, 0.6, 0.5, 0.5, 0.6, 0.5, 0.5, 0.5, 0.5])"
      ]
     },
     "execution_count": 95,
     "metadata": {},
     "output_type": "execute_result"
    }
   ],
   "source": [
    "cross_val_score(ppn, X_train, y_train, cv=10)                  # Generate results for cross vaidation"
   ]
  },
  {
   "cell_type": "markdown",
   "metadata": {},
   "source": [
    "From cross validation, we see that the range of F1 score accuracy is [0.5, 0.6] which doesn't match the 0.71 F1 score accuracy predicted by Lazypredict package. "
   ]
  },
  {
   "cell_type": "markdown",
   "metadata": {},
   "source": [
    "### 2. Passive Aggressive Classifier"
   ]
  },
  {
   "cell_type": "code",
   "execution_count": 78,
   "metadata": {},
   "outputs": [
    {
     "data": {
      "text/plain": [
       "PassiveAggressiveClassifier(C=0.5, random_state=5)"
      ]
     },
     "execution_count": 78,
     "metadata": {},
     "output_type": "execute_result"
    }
   ],
   "source": [
    "pac = PassiveAggressiveClassifier(C=0.5, random_state = 5)     # Create an instance of PassiveAggressiveClassifier\n",
    "pac.fit(X_train, y_train)                                      # Fit model with training data"
   ]
  },
  {
   "cell_type": "code",
   "execution_count": 79,
   "metadata": {},
   "outputs": [
    {
     "name": "stdout",
     "output_type": "stream",
     "text": [
      "              precision    recall  f1-score   support\n",
      "\n",
      "           0       0.50      1.00      0.67        13\n",
      "           1       0.00      0.00      0.00        13\n",
      "\n",
      "    accuracy                           0.50        26\n",
      "   macro avg       0.25      0.50      0.33        26\n",
      "weighted avg       0.25      0.50      0.33        26\n",
      "\n"
     ]
    }
   ],
   "source": [
    "pac_pred = pac.predict(X_test)                                 # Make predictions for test data\n",
    "print(classification_report(y_test, pac_pred))                 # Generate classification report"
   ]
  },
  {
   "cell_type": "markdown",
   "metadata": {},
   "source": [
    "F1 score accuracy is only 50% which is quite low compared to 69% F1 score accuracy predicted by Lazypredict package. Hyperparameters may require tuning here to increase accuracy to 69%."
   ]
  },
  {
   "cell_type": "code",
   "execution_count": 80,
   "metadata": {
    "scrolled": true
   },
   "outputs": [
    {
     "data": {
      "text/plain": [
       "array([0.4, 0.6, 0.6, 0.4, 0.6, 0.5, 0.4, 0.5, 0.5, 0.5])"
      ]
     },
     "execution_count": 80,
     "metadata": {},
     "output_type": "execute_result"
    }
   ],
   "source": [
    "cross_val_score(pac, X_train, y_train, cv=10)                  # Generate results for cross vaidation"
   ]
  },
  {
   "cell_type": "markdown",
   "metadata": {},
   "source": [
    "From cross vaidation we see that accuracy is in the range [0.4, 0.6] which doesn't quite match the F1 score accuracy predicted the LazyPredict package."
   ]
  },
  {
   "cell_type": "markdown",
   "metadata": {},
   "source": [
    "### 3. Nearest Centroid"
   ]
  },
  {
   "cell_type": "code",
   "execution_count": 83,
   "metadata": {},
   "outputs": [
    {
     "name": "stdout",
     "output_type": "stream",
     "text": [
      "              precision    recall  f1-score   support\n",
      "\n",
      "           0       0.67      0.62      0.64        13\n",
      "           1       0.64      0.69      0.67        13\n",
      "\n",
      "    accuracy                           0.65        26\n",
      "   macro avg       0.65      0.65      0.65        26\n",
      "weighted avg       0.65      0.65      0.65        26\n",
      "\n"
     ]
    }
   ],
   "source": [
    "nc = NearestCentroid()                                         # Create an instance of NearestCentroid\n",
    "nc.fit(X_train, y_train.values.ravel())                        # Fit model with training data\n",
    "print(classification_report(y_test, nc.predict(X_test)))       # Generate classification report"
   ]
  },
  {
   "cell_type": "markdown",
   "metadata": {},
   "source": [
    "F1 score accuracy is 65% which is low compared to 69% F1 score accuracy predicted by Lazypredcit package. Hyperparameters' tuning may be required here to increase F1 score accuracy to 69%."
   ]
  },
  {
   "cell_type": "code",
   "execution_count": 84,
   "metadata": {},
   "outputs": [
    {
     "data": {
      "text/plain": [
       "array([0.7, 0.6, 0.5, 0.5, 0.7, 0.8, 0.4, 0.5, 0.5, 0.4])"
      ]
     },
     "execution_count": 84,
     "metadata": {},
     "output_type": "execute_result"
    }
   ],
   "source": [
    "cross_val_score(nc, X_train, y_train, cv=10)                  # Generate results for cross vaidation"
   ]
  },
  {
   "cell_type": "markdown",
   "metadata": {},
   "source": [
    "From cross vaidation we see that accuracy is in the range [0.4, 0.7] whereas F1 score accuracy predicted the LazyPredict package is 69% which is towards the upper limit of the range."
   ]
  },
  {
   "cell_type": "markdown",
   "metadata": {},
   "source": [
    "Although Lazypredict gives F1 score accuracy for a myriad of models, the F1 score accuracy doesn't usually match when a model is built separately. Moreover, it gave KNN one of the lowest F1 score accuracy among all models. Whereas our experimentation with KNN model with 4 important variables gave an F1 score accuracy of 81%."
   ]
  },
  {
   "cell_type": "markdown",
   "metadata": {},
   "source": [
    "# Summary\n",
    "\n",
    "1. Highest F1 score accuracy achieved is 81% using KNN algorithm when k=20 with 4 important features. timely_delivery, exp_contents, courier_satisf, good_price are the most important variables.\n",
    "\n",
    "2. Undersampling keeps the F1 score accuracy at 73% using KNN alogorithm when k=67 with all 6 features. Oversampling decreased the F1 scorw accuracy slightly probably due to overfitting of training data.\n",
    "\n",
    "3. Undersampling with 4 important features improves F1 score accuracy slightly to around 77%.\n",
    "\n",
    "3. Highest F1 score (macro) accuracy achieved using Recursive Feature Elimination and Random Forest as estimator is 57.67%. The optimal number of features is 4 and are as follows: ordered_all, courier_satif, timely_delivery and exp_contents."
   ]
  },
  {
   "cell_type": "code",
   "execution_count": null,
   "metadata": {},
   "outputs": [],
   "source": []
  }
 ],
 "metadata": {
  "kernelspec": {
   "display_name": "Python 3",
   "language": "python",
   "name": "python3"
  },
  "language_info": {
   "codemirror_mode": {
    "name": "ipython",
    "version": 3
   },
   "file_extension": ".py",
   "mimetype": "text/x-python",
   "name": "python",
   "nbconvert_exporter": "python",
   "pygments_lexer": "ipython3",
   "version": "3.8.5"
  }
 },
 "nbformat": 4,
 "nbformat_minor": 4
}
