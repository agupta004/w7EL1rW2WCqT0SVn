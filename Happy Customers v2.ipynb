{
 "cells": [
  {
   "cell_type": "markdown",
   "metadata": {},
   "source": [
    "# Objective - To build a model for predicting whether a customer is happy or not"
   ]
  },
  {
   "cell_type": "markdown",
   "metadata": {},
   "source": [
    "### Importing relevant libraries"
   ]
  },
  {
   "cell_type": "code",
   "execution_count": 93,
   "metadata": {},
   "outputs": [],
   "source": [
    "import os\n",
    "os.chdir(\"F:\\Blue Sky\\EVERYTHING\\DATA SCIENCE\\Apziva\\Happy Customers\")\n",
    "import pandas as pd\n",
    "import statsmodels.api as sm\n",
    "from sklearn.model_selection import train_test_split\n",
    "from sklearn.linear_model import LogisticRegression\n",
    "from sklearn.neighbors import KNeighborsClassifier\n",
    "from sklearn.tree import DecisionTreeClassifier\n",
    "from sklearn.ensemble import RandomForestClassifier\n",
    "from sklearn.ensemble import GradientBoostingClassifier\n",
    "from sklearn.model_selection import cross_val_score\n",
    "from sklearn.metrics import confusion_matrix\n",
    "from sklearn.metrics import classification_report\n",
    "from sklearn.metrics import f1_score\n",
    "import seaborn as sn\n",
    "import matplotlib.pyplot as plt\n",
    "from sklearn.inspection import permutation_importance        # Feature importance\n",
    "from sklearn.model_selection import StratifiedKFold\n",
    "from sklearn.feature_selection import RFECV"
   ]
  },
  {
   "cell_type": "markdown",
   "metadata": {},
   "source": [
    "### Importing the data set"
   ]
  },
  {
   "cell_type": "code",
   "execution_count": 8,
   "metadata": {},
   "outputs": [
    {
     "data": {
      "text/html": [
       "<div>\n",
       "<style scoped>\n",
       "    .dataframe tbody tr th:only-of-type {\n",
       "        vertical-align: middle;\n",
       "    }\n",
       "\n",
       "    .dataframe tbody tr th {\n",
       "        vertical-align: top;\n",
       "    }\n",
       "\n",
       "    .dataframe thead th {\n",
       "        text-align: right;\n",
       "    }\n",
       "</style>\n",
       "<table border=\"1\" class=\"dataframe\">\n",
       "  <thead>\n",
       "    <tr style=\"text-align: right;\">\n",
       "      <th></th>\n",
       "      <th>Y</th>\n",
       "      <th>X1</th>\n",
       "      <th>X2</th>\n",
       "      <th>X3</th>\n",
       "      <th>X4</th>\n",
       "      <th>X5</th>\n",
       "      <th>X6</th>\n",
       "    </tr>\n",
       "  </thead>\n",
       "  <tbody>\n",
       "    <tr>\n",
       "      <th>0</th>\n",
       "      <td>0</td>\n",
       "      <td>3</td>\n",
       "      <td>3</td>\n",
       "      <td>3</td>\n",
       "      <td>4</td>\n",
       "      <td>2</td>\n",
       "      <td>4</td>\n",
       "    </tr>\n",
       "    <tr>\n",
       "      <th>1</th>\n",
       "      <td>0</td>\n",
       "      <td>3</td>\n",
       "      <td>2</td>\n",
       "      <td>3</td>\n",
       "      <td>5</td>\n",
       "      <td>4</td>\n",
       "      <td>3</td>\n",
       "    </tr>\n",
       "    <tr>\n",
       "      <th>2</th>\n",
       "      <td>1</td>\n",
       "      <td>5</td>\n",
       "      <td>3</td>\n",
       "      <td>3</td>\n",
       "      <td>3</td>\n",
       "      <td>3</td>\n",
       "      <td>5</td>\n",
       "    </tr>\n",
       "    <tr>\n",
       "      <th>3</th>\n",
       "      <td>0</td>\n",
       "      <td>5</td>\n",
       "      <td>4</td>\n",
       "      <td>3</td>\n",
       "      <td>3</td>\n",
       "      <td>3</td>\n",
       "      <td>5</td>\n",
       "    </tr>\n",
       "    <tr>\n",
       "      <th>4</th>\n",
       "      <td>0</td>\n",
       "      <td>5</td>\n",
       "      <td>4</td>\n",
       "      <td>3</td>\n",
       "      <td>3</td>\n",
       "      <td>3</td>\n",
       "      <td>5</td>\n",
       "    </tr>\n",
       "  </tbody>\n",
       "</table>\n",
       "</div>"
      ],
      "text/plain": [
       "   Y  X1  X2  X3  X4  X5  X6\n",
       "0  0   3   3   3   4   2   4\n",
       "1  0   3   2   3   5   4   3\n",
       "2  1   5   3   3   3   3   5\n",
       "3  0   5   4   3   3   3   5\n",
       "4  0   5   4   3   3   3   5"
      ]
     },
     "execution_count": 8,
     "metadata": {},
     "output_type": "execute_result"
    }
   ],
   "source": [
    "hc = pd.read_csv(\"ACME-HappinessSurvey2020.csv\")\n",
    "hc.head()"
   ]
  },
  {
   "cell_type": "markdown",
   "metadata": {},
   "source": [
    "### Renaming columns for increasing readability"
   ]
  },
  {
   "cell_type": "code",
   "execution_count": 9,
   "metadata": {},
   "outputs": [
    {
     "data": {
      "text/html": [
       "<div>\n",
       "<style scoped>\n",
       "    .dataframe tbody tr th:only-of-type {\n",
       "        vertical-align: middle;\n",
       "    }\n",
       "\n",
       "    .dataframe tbody tr th {\n",
       "        vertical-align: top;\n",
       "    }\n",
       "\n",
       "    .dataframe thead th {\n",
       "        text-align: right;\n",
       "    }\n",
       "</style>\n",
       "<table border=\"1\" class=\"dataframe\">\n",
       "  <thead>\n",
       "    <tr style=\"text-align: right;\">\n",
       "      <th></th>\n",
       "      <th>happiness_status</th>\n",
       "      <th>timely_delivery</th>\n",
       "      <th>exp_contents</th>\n",
       "      <th>ordered_all</th>\n",
       "      <th>good_price</th>\n",
       "      <th>courier_satisf</th>\n",
       "      <th>easy_app_order</th>\n",
       "    </tr>\n",
       "  </thead>\n",
       "  <tbody>\n",
       "    <tr>\n",
       "      <th>0</th>\n",
       "      <td>0</td>\n",
       "      <td>3</td>\n",
       "      <td>3</td>\n",
       "      <td>3</td>\n",
       "      <td>4</td>\n",
       "      <td>2</td>\n",
       "      <td>4</td>\n",
       "    </tr>\n",
       "    <tr>\n",
       "      <th>1</th>\n",
       "      <td>0</td>\n",
       "      <td>3</td>\n",
       "      <td>2</td>\n",
       "      <td>3</td>\n",
       "      <td>5</td>\n",
       "      <td>4</td>\n",
       "      <td>3</td>\n",
       "    </tr>\n",
       "    <tr>\n",
       "      <th>2</th>\n",
       "      <td>1</td>\n",
       "      <td>5</td>\n",
       "      <td>3</td>\n",
       "      <td>3</td>\n",
       "      <td>3</td>\n",
       "      <td>3</td>\n",
       "      <td>5</td>\n",
       "    </tr>\n",
       "    <tr>\n",
       "      <th>3</th>\n",
       "      <td>0</td>\n",
       "      <td>5</td>\n",
       "      <td>4</td>\n",
       "      <td>3</td>\n",
       "      <td>3</td>\n",
       "      <td>3</td>\n",
       "      <td>5</td>\n",
       "    </tr>\n",
       "    <tr>\n",
       "      <th>4</th>\n",
       "      <td>0</td>\n",
       "      <td>5</td>\n",
       "      <td>4</td>\n",
       "      <td>3</td>\n",
       "      <td>3</td>\n",
       "      <td>3</td>\n",
       "      <td>5</td>\n",
       "    </tr>\n",
       "  </tbody>\n",
       "</table>\n",
       "</div>"
      ],
      "text/plain": [
       "   happiness_status  timely_delivery  exp_contents  ordered_all  good_price  \\\n",
       "0                 0                3             3            3           4   \n",
       "1                 0                3             2            3           5   \n",
       "2                 1                5             3            3           3   \n",
       "3                 0                5             4            3           3   \n",
       "4                 0                5             4            3           3   \n",
       "\n",
       "   courier_satisf  easy_app_order  \n",
       "0               2               4  \n",
       "1               4               3  \n",
       "2               3               5  \n",
       "3               3               5  \n",
       "4               3               5  "
      ]
     },
     "execution_count": 9,
     "metadata": {},
     "output_type": "execute_result"
    }
   ],
   "source": [
    "hc.columns = ['happiness_status', 'timely_delivery', 'exp_contents', 'ordered_all', 'good_price', 'courier_satisf', 'easy_app_order']\n",
    "hc.head()"
   ]
  },
  {
   "cell_type": "markdown",
   "metadata": {},
   "source": [
    "### Exploratory Data Analysis"
   ]
  },
  {
   "cell_type": "code",
   "execution_count": 10,
   "metadata": {},
   "outputs": [
    {
     "name": "stdout",
     "output_type": "stream",
     "text": [
      "<class 'pandas.core.frame.DataFrame'>\n",
      "RangeIndex: 126 entries, 0 to 125\n",
      "Data columns (total 7 columns):\n",
      " #   Column            Non-Null Count  Dtype\n",
      "---  ------            --------------  -----\n",
      " 0   happiness_status  126 non-null    int64\n",
      " 1   timely_delivery   126 non-null    int64\n",
      " 2   exp_contents      126 non-null    int64\n",
      " 3   ordered_all       126 non-null    int64\n",
      " 4   good_price        126 non-null    int64\n",
      " 5   courier_satisf    126 non-null    int64\n",
      " 6   easy_app_order    126 non-null    int64\n",
      "dtypes: int64(7)\n",
      "memory usage: 7.0 KB\n"
     ]
    }
   ],
   "source": [
    "hc.info()"
   ]
  },
  {
   "cell_type": "code",
   "execution_count": 11,
   "metadata": {},
   "outputs": [
    {
     "data": {
      "text/html": [
       "<div>\n",
       "<style scoped>\n",
       "    .dataframe tbody tr th:only-of-type {\n",
       "        vertical-align: middle;\n",
       "    }\n",
       "\n",
       "    .dataframe tbody tr th {\n",
       "        vertical-align: top;\n",
       "    }\n",
       "\n",
       "    .dataframe thead th {\n",
       "        text-align: right;\n",
       "    }\n",
       "</style>\n",
       "<table border=\"1\" class=\"dataframe\">\n",
       "  <thead>\n",
       "    <tr style=\"text-align: right;\">\n",
       "      <th></th>\n",
       "      <th>happiness_status</th>\n",
       "      <th>timely_delivery</th>\n",
       "      <th>exp_contents</th>\n",
       "      <th>ordered_all</th>\n",
       "      <th>good_price</th>\n",
       "      <th>courier_satisf</th>\n",
       "      <th>easy_app_order</th>\n",
       "    </tr>\n",
       "  </thead>\n",
       "  <tbody>\n",
       "    <tr>\n",
       "      <th>count</th>\n",
       "      <td>126.000000</td>\n",
       "      <td>126.000000</td>\n",
       "      <td>126.000000</td>\n",
       "      <td>126.000000</td>\n",
       "      <td>126.000000</td>\n",
       "      <td>126.000000</td>\n",
       "      <td>126.000000</td>\n",
       "    </tr>\n",
       "    <tr>\n",
       "      <th>mean</th>\n",
       "      <td>0.547619</td>\n",
       "      <td>4.333333</td>\n",
       "      <td>2.531746</td>\n",
       "      <td>3.309524</td>\n",
       "      <td>3.746032</td>\n",
       "      <td>3.650794</td>\n",
       "      <td>4.253968</td>\n",
       "    </tr>\n",
       "    <tr>\n",
       "      <th>std</th>\n",
       "      <td>0.499714</td>\n",
       "      <td>0.800000</td>\n",
       "      <td>1.114892</td>\n",
       "      <td>1.023440</td>\n",
       "      <td>0.875776</td>\n",
       "      <td>1.147641</td>\n",
       "      <td>0.809311</td>\n",
       "    </tr>\n",
       "    <tr>\n",
       "      <th>min</th>\n",
       "      <td>0.000000</td>\n",
       "      <td>1.000000</td>\n",
       "      <td>1.000000</td>\n",
       "      <td>1.000000</td>\n",
       "      <td>1.000000</td>\n",
       "      <td>1.000000</td>\n",
       "      <td>1.000000</td>\n",
       "    </tr>\n",
       "    <tr>\n",
       "      <th>25%</th>\n",
       "      <td>0.000000</td>\n",
       "      <td>4.000000</td>\n",
       "      <td>2.000000</td>\n",
       "      <td>3.000000</td>\n",
       "      <td>3.000000</td>\n",
       "      <td>3.000000</td>\n",
       "      <td>4.000000</td>\n",
       "    </tr>\n",
       "    <tr>\n",
       "      <th>50%</th>\n",
       "      <td>1.000000</td>\n",
       "      <td>5.000000</td>\n",
       "      <td>3.000000</td>\n",
       "      <td>3.000000</td>\n",
       "      <td>4.000000</td>\n",
       "      <td>4.000000</td>\n",
       "      <td>4.000000</td>\n",
       "    </tr>\n",
       "    <tr>\n",
       "      <th>75%</th>\n",
       "      <td>1.000000</td>\n",
       "      <td>5.000000</td>\n",
       "      <td>3.000000</td>\n",
       "      <td>4.000000</td>\n",
       "      <td>4.000000</td>\n",
       "      <td>4.000000</td>\n",
       "      <td>5.000000</td>\n",
       "    </tr>\n",
       "    <tr>\n",
       "      <th>max</th>\n",
       "      <td>1.000000</td>\n",
       "      <td>5.000000</td>\n",
       "      <td>5.000000</td>\n",
       "      <td>5.000000</td>\n",
       "      <td>5.000000</td>\n",
       "      <td>5.000000</td>\n",
       "      <td>5.000000</td>\n",
       "    </tr>\n",
       "  </tbody>\n",
       "</table>\n",
       "</div>"
      ],
      "text/plain": [
       "       happiness_status  timely_delivery  exp_contents  ordered_all  \\\n",
       "count        126.000000       126.000000    126.000000   126.000000   \n",
       "mean           0.547619         4.333333      2.531746     3.309524   \n",
       "std            0.499714         0.800000      1.114892     1.023440   \n",
       "min            0.000000         1.000000      1.000000     1.000000   \n",
       "25%            0.000000         4.000000      2.000000     3.000000   \n",
       "50%            1.000000         5.000000      3.000000     3.000000   \n",
       "75%            1.000000         5.000000      3.000000     4.000000   \n",
       "max            1.000000         5.000000      5.000000     5.000000   \n",
       "\n",
       "       good_price  courier_satisf  easy_app_order  \n",
       "count  126.000000      126.000000      126.000000  \n",
       "mean     3.746032        3.650794        4.253968  \n",
       "std      0.875776        1.147641        0.809311  \n",
       "min      1.000000        1.000000        1.000000  \n",
       "25%      3.000000        3.000000        4.000000  \n",
       "50%      4.000000        4.000000        4.000000  \n",
       "75%      4.000000        4.000000        5.000000  \n",
       "max      5.000000        5.000000        5.000000  "
      ]
     },
     "execution_count": 11,
     "metadata": {},
     "output_type": "execute_result"
    }
   ],
   "source": [
    "hc.describe()"
   ]
  },
  {
   "cell_type": "markdown",
   "metadata": {},
   "source": [
    "### No null or missing values. No imputation required"
   ]
  },
  {
   "cell_type": "markdown",
   "metadata": {},
   "source": [
    "### Check class balancing to identify if oversampling or undersampling is required"
   ]
  },
  {
   "cell_type": "code",
   "execution_count": 12,
   "metadata": {
    "scrolled": true
   },
   "outputs": [
    {
     "data": {
      "text/plain": [
       "1    69\n",
       "0    57\n",
       "Name: happiness_status, dtype: int64"
      ]
     },
     "execution_count": 12,
     "metadata": {},
     "output_type": "execute_result"
    }
   ],
   "source": [
    "hc['happiness_status'].value_counts()"
   ]
  },
  {
   "cell_type": "markdown",
   "metadata": {},
   "source": [
    "### The class of the independent variable is balanced as 53% of the values belong to one class and 47% to another class. Oversampling or undersampling is not required"
   ]
  },
  {
   "cell_type": "markdown",
   "metadata": {},
   "source": [
    "### Train Test split - For training and testing data"
   ]
  },
  {
   "cell_type": "code",
   "execution_count": 13,
   "metadata": {},
   "outputs": [
    {
     "name": "stdout",
     "output_type": "stream",
     "text": [
      "   timely_delivery  exp_contents  ordered_all  good_price  courier_satisf  \\\n",
      "0                3             3            3           4               2   \n",
      "1                3             2            3           5               4   \n",
      "2                5             3            3           3               3   \n",
      "3                5             4            3           3               3   \n",
      "4                5             4            3           3               3   \n",
      "\n",
      "   easy_app_order  \n",
      "0               4  \n",
      "1               3  \n",
      "2               5  \n",
      "3               5  \n",
      "4               5  \n",
      "0    0\n",
      "1    0\n",
      "2    1\n",
      "3    0\n",
      "4    0\n",
      "Name: happiness_status, dtype: int64\n"
     ]
    }
   ],
   "source": [
    "X = hc.drop(columns = 'happiness_status')\n",
    "y = hc['happiness_status']\n",
    "print(X.head())\n",
    "print(y.head())"
   ]
  },
  {
   "cell_type": "code",
   "execution_count": 14,
   "metadata": {},
   "outputs": [
    {
     "name": "stdout",
     "output_type": "stream",
     "text": [
      "     timely_delivery  exp_contents  ordered_all  good_price  courier_satisf  \\\n",
      "116                3             4            4           5               1   \n",
      "13                 4             2            4           5               4   \n",
      "33                 3             2            4           4               4   \n",
      "75                 3             2            3           3               4   \n",
      "26                 3             3            3           5               5   \n",
      "\n",
      "     easy_app_order  \n",
      "116               3  \n",
      "13                3  \n",
      "33                5  \n",
      "75                4  \n",
      "26                5  \n",
      "(100, 6)\n",
      "(26, 6)\n"
     ]
    }
   ],
   "source": [
    "X_train, X_test, y_train, y_test = train_test_split(X,y, test_size = 0.2, random_state = 0)\n",
    "print(X_train.head())\n",
    "print(X_train.shape)\n",
    "print(X_test.shape)"
   ]
  },
  {
   "cell_type": "markdown",
   "metadata": {},
   "source": [
    "### Creating different classification models to train them on training data and testing accuracy. We'll start with basic models like Logistic Regression and then move on to complex models like Random Forest.The idea is to get best possible F1-score accuracy and hence identify best model."
   ]
  },
  {
   "cell_type": "markdown",
   "metadata": {},
   "source": [
    "## 1. Logistic Regression"
   ]
  },
  {
   "cell_type": "markdown",
   "metadata": {},
   "source": [
    "### 1a. Creating Logistic Regression model using Statsmodels module to identify statistical significance of features "
   ]
  },
  {
   "cell_type": "code",
   "execution_count": 15,
   "metadata": {
    "scrolled": false
   },
   "outputs": [
    {
     "name": "stdout",
     "output_type": "stream",
     "text": [
      "Optimization terminated successfully.\n",
      "         Current function value: 0.637875\n",
      "         Iterations 5\n",
      "                        Results: Logit\n",
      "===============================================================\n",
      "Model:              Logit            Pseudo R-squared: 0.074   \n",
      "Dependent Variable: happiness_status AIC:              174.7445\n",
      "Date:               2021-05-27 16:19 BIC:              194.5985\n",
      "No. Observations:   126              Log-Likelihood:   -80.372 \n",
      "Df Model:           6                LL-Null:          -86.764 \n",
      "Df Residuals:       119              LLR p-value:      0.046597\n",
      "Converged:          1.0000           Scale:            1.0000  \n",
      "No. Iterations:     5.0000                                     \n",
      "---------------------------------------------------------------\n",
      "                 Coef.  Std.Err.    z    P>|z|   [0.025  0.975]\n",
      "---------------------------------------------------------------\n",
      "const           -3.5674   1.4891 -2.3957 0.0166 -6.4859 -0.6489\n",
      "timely_delivery  0.5738   0.2888  1.9866 0.0470  0.0077  1.1400\n",
      "exp_contents    -0.0937   0.1757 -0.5334 0.5938 -0.4380  0.2506\n",
      "ordered_all      0.1317   0.2103  0.6262 0.5312 -0.2805  0.5438\n",
      "good_price      -0.0058   0.2357 -0.0248 0.9802 -0.4678  0.4561\n",
      "courier_satisf   0.2045   0.1943  1.0525 0.2926 -0.1764  0.5854\n",
      "easy_app_order   0.0830   0.2641  0.3143 0.7533 -0.4347  0.6007\n",
      "===============================================================\n",
      "\n"
     ]
    }
   ],
   "source": [
    "X_sm = X                          # Creating a copy of X because we'll be adding a constant for Statsmodels logistic regression\n",
    "X_sm = sm.add_constant(X_sm)      # Adding constant y-intercept for training data\n",
    "logit_model = sm.Logit(y,X_sm)    # Building the model (An instance og Logistic Regression)\n",
    "result = logit_model.fit()        # Fitting the data\n",
    "print(result.summary2())"
   ]
  },
  {
   "cell_type": "markdown",
   "metadata": {},
   "source": [
    "### timely_delivery is the most statistically significant variable and good_price is least statistically significant variable"
   ]
  },
  {
   "cell_type": "markdown",
   "metadata": {},
   "source": [
    "### 1b. Creating Logistic Regression model using sklearn module to calculate F1-score"
   ]
  },
  {
   "cell_type": "code",
   "execution_count": 16,
   "metadata": {},
   "outputs": [],
   "source": [
    "logreg = LogisticRegression()    # Building model as an instance of Logistic Regression\n",
    "logreg.fit(X_train, y_train)     # Fitting training data\n",
    "y_pred_logit = logreg.predict(X_test)  # Predict based on test data"
   ]
  },
  {
   "cell_type": "code",
   "execution_count": 17,
   "metadata": {},
   "outputs": [
    {
     "data": {
      "text/plain": [
       "Text(0.5, 24.0, 'Predicted Label')"
      ]
     },
     "execution_count": 17,
     "metadata": {},
     "output_type": "execute_result"
    },
    {
     "data": {
      "image/png": "[encoded data removed]",
      "text/plain": [
       "<Figure size 432x360 with 2 Axes>"
      ]
     },
     "metadata": {
      "needs_background": "light"
     },
     "output_type": "display_data"
    }
   ],
   "source": [
    "confusion_matrix = confusion_matrix(y_test, y_pred_logit)\n",
    "df_cm = pd.DataFrame(confusion_matrix, index = [i for i in \"01\"], columns = [i for i in \"01\"])\n",
    "plt.figure(figsize = (6,5))\n",
    "sn.heatmap(df_cm, annot = True)\n",
    "plt.ylabel('Actual Label')\n",
    "plt.xlabel('Predicted Label')\n",
    "plt.show()"
   ]
  },
  {
   "cell_type": "code",
   "execution_count": 18,
   "metadata": {
    "scrolled": true
   },
   "outputs": [
    {
     "name": "stdout",
     "output_type": "stream",
     "text": [
      "              precision    recall  f1-score   support\n",
      "\n",
      "           0       0.71      0.38      0.50        13\n",
      "           1       0.58      0.85      0.69        13\n",
      "\n",
      "    accuracy                           0.62        26\n",
      "   macro avg       0.65      0.62      0.59        26\n",
      "weighted avg       0.65      0.62      0.59        26\n",
      "\n"
     ]
    }
   ],
   "source": [
    "print(classification_report(y_test, y_pred_logit))"
   ]
  },
  {
   "cell_type": "markdown",
   "metadata": {},
   "source": [
    "### F1-score accuracy with Logistic Regression is 62%"
   ]
  },
  {
   "cell_type": "markdown",
   "metadata": {},
   "source": [
    "# 2. K Nearest Neighbors"
   ]
  },
  {
   "cell_type": "markdown",
   "metadata": {},
   "source": [
    "### K Nearest Neighbors is another popular classification alogorithm. It looks at \"K\" neighbors and classifies the test data point based on majority."
   ]
  },
  {
   "cell_type": "code",
   "execution_count": 19,
   "metadata": {},
   "outputs": [],
   "source": [
    "k_range = range(1,100)                               # Range of k for experimentation\n",
    "scores = {}                                          # Empty dictionary for storing scores for each value of k\n",
    "score_list = []                                      # Empty list for storing scores\n",
    "for k in k_range:                                    # Loop over k\n",
    "    knn = KNeighborsClassifier(n_neighbors = k)      # Build an instance of KNeighborsClassifier Model\n",
    "    knn.fit(X_train, y_train)                        # Fit the model with training data\n",
    "    y_pred_knn = knn.predict(X_test)                 # Make predictions for test data\n",
    "    scores[k] = f1_score(y_test, y_pred_knn)         # Generate F1 score and append to scores dictionary with respective k value\n",
    "    score_list.append(f1_score(y_test, y_pred_knn))  # Append F1 score to score_list dictionary"
   ]
  },
  {
   "cell_type": "code",
   "execution_count": 22,
   "metadata": {},
   "outputs": [
    {
     "data": {
      "image/png": "[encoded data removed]",
      "text/plain": [
       "<Figure size 432x288 with 1 Axes>"
      ]
     },
     "metadata": {
      "needs_background": "light"
     },
     "output_type": "display_data"
    }
   ],
   "source": [
    "%matplotlib inline\n",
    "import matplotlib.pyplot as plt\n",
    "plt.plot(k_range, score_list)                   # Plot Accuracy vs k value\n",
    "plt.xlabel('k value')\n",
    "plt.ylabel('Accuracy')\n",
    "plt.title('KNN - Accuracy vs k value')\n",
    "plt.show()"
   ]
  },
  {
   "cell_type": "code",
   "execution_count": 20,
   "metadata": {},
   "outputs": [
    {
     "data": {
      "text/plain": [
       "0.7407407407407408"
      ]
     },
     "execution_count": 20,
     "metadata": {},
     "output_type": "execute_result"
    }
   ],
   "source": [
    "# Get maximum score\n",
    "max(score_list)"
   ]
  },
  {
   "cell_type": "code",
   "execution_count": 21,
   "metadata": {},
   "outputs": [
    {
     "data": {
      "text/plain": [
       "10"
      ]
     },
     "execution_count": 21,
     "metadata": {},
     "output_type": "execute_result"
    }
   ],
   "source": [
    "# Get K value for maximum score\n",
    "max(scores, key=scores.get)"
   ]
  },
  {
   "cell_type": "markdown",
   "metadata": {},
   "source": [
    "### Maximum F1 score accuracy occurs at K=10"
   ]
  },
  {
   "cell_type": "markdown",
   "metadata": {},
   "source": [
    "### Final KNN model"
   ]
  },
  {
   "cell_type": "code",
   "execution_count": 41,
   "metadata": {},
   "outputs": [],
   "source": [
    "knn_f = KNeighborsClassifier(n_neighbors = 10)     # Build an instance of KNeighborsClassifier Model with k=10\n",
    "knn_f.fit(X_train, y_train)                        # Fit the model with training data\n",
    "y_pred_knn_f = knn_f.predict(X_test)               # Make predictions for test data"
   ]
  },
  {
   "cell_type": "code",
   "execution_count": 43,
   "metadata": {},
   "outputs": [
    {
     "name": "stdout",
     "output_type": "stream",
     "text": [
      "              precision    recall  f1-score   support\n",
      "\n",
      "           0       0.75      0.69      0.72        13\n",
      "           1       0.71      0.77      0.74        13\n",
      "\n",
      "    accuracy                           0.73        26\n",
      "   macro avg       0.73      0.73      0.73        26\n",
      "weighted avg       0.73      0.73      0.73        26\n",
      "\n"
     ]
    }
   ],
   "source": [
    "print(classification_report(y_test, y_pred_knn_f))"
   ]
  },
  {
   "cell_type": "markdown",
   "metadata": {},
   "source": [
    "### Maximum F1 score accuracy with K Nearest Neighbors is 73% and it occurs at K=10"
   ]
  },
  {
   "cell_type": "markdown",
   "metadata": {},
   "source": [
    "# 3. Decision Tree"
   ]
  },
  {
   "cell_type": "markdown",
   "metadata": {},
   "source": [
    "### Decison tree is another classification model which classifies data into categories based on certain tests"
   ]
  },
  {
   "cell_type": "code",
   "execution_count": 23,
   "metadata": {},
   "outputs": [],
   "source": [
    "dtc = DecisionTreeClassifier(random_state = 0)      # Create an instance of DecisionTreeClassifier\n",
    "dtc.fit(X_train, y_train)                           # Fit the model with training data\n",
    "y_pred_dtc = dtc.predict(X_test)                    # Make predictions for test data"
   ]
  },
  {
   "cell_type": "code",
   "execution_count": 24,
   "metadata": {},
   "outputs": [
    {
     "data": {
      "text/plain": [
       "array([0, 1, 1, 0, 1, 1, 1, 1, 1, 0, 0, 0, 0, 1, 0, 0, 0, 1, 0, 0, 0, 1,\n",
       "       0, 0, 1, 1], dtype=int64)"
      ]
     },
     "execution_count": 24,
     "metadata": {},
     "output_type": "execute_result"
    }
   ],
   "source": [
    "y_pred_dtc                                          # Checking predictions"
   ]
  },
  {
   "cell_type": "code",
   "execution_count": 25,
   "metadata": {},
   "outputs": [
    {
     "name": "stdout",
     "output_type": "stream",
     "text": [
      "              precision    recall  f1-score   support\n",
      "\n",
      "           0       0.50      0.54      0.52        13\n",
      "           1       0.50      0.46      0.48        13\n",
      "\n",
      "    accuracy                           0.50        26\n",
      "   macro avg       0.50      0.50      0.50        26\n",
      "weighted avg       0.50      0.50      0.50        26\n",
      "\n"
     ]
    }
   ],
   "source": [
    "print(classification_report(y_test, y_pred_dtc))    # Get classification report"
   ]
  },
  {
   "cell_type": "markdown",
   "metadata": {},
   "source": [
    "### F1 score accuracy with Decision Tree Model is 50%"
   ]
  },
  {
   "cell_type": "markdown",
   "metadata": {},
   "source": [
    "### Cross Validation - For understanding accuracy when data is split differently for training and testing"
   ]
  },
  {
   "cell_type": "code",
   "execution_count": 26,
   "metadata": {},
   "outputs": [
    {
     "data": {
      "text/plain": [
       "array([0.7, 0.7, 0.5, 0.6, 0.8, 0.5, 0.6, 0.6, 0.8, 0.4])"
      ]
     },
     "execution_count": 26,
     "metadata": {},
     "output_type": "execute_result"
    }
   ],
   "source": [
    "cross_val_score(dtc, X_train, y_train, cv = 10)"
   ]
  },
  {
   "cell_type": "markdown",
   "metadata": {},
   "source": [
    "### There's a big variation in the accuracy (from 0.4 to 0.8) which suggests that data is not homogeneous possibly due to low number of data points"
   ]
  },
  {
   "cell_type": "markdown",
   "metadata": {},
   "source": [
    "# 4. Random Forest"
   ]
  },
  {
   "cell_type": "markdown",
   "metadata": {},
   "source": [
    "### Random forest is a popular ensemble model. It is an ensemble of multiple decision trees"
   ]
  },
  {
   "cell_type": "code",
   "execution_count": 27,
   "metadata": {},
   "outputs": [],
   "source": [
    "rf = RandomForestClassifier(random_state = 0)    # Create an instance of RandomForestClassifier\n",
    "rf.fit(X_train, y_train)                         # Fit the model with training and test data\n",
    "y_pred_rf = rf.predict(X_test)                   # Make predictions on the test data"
   ]
  },
  {
   "cell_type": "code",
   "execution_count": 28,
   "metadata": {},
   "outputs": [
    {
     "name": "stdout",
     "output_type": "stream",
     "text": [
      "              precision    recall  f1-score   support\n",
      "\n",
      "           0       0.56      0.38      0.45        13\n",
      "           1       0.53      0.69      0.60        13\n",
      "\n",
      "    accuracy                           0.54        26\n",
      "   macro avg       0.54      0.54      0.53        26\n",
      "weighted avg       0.54      0.54      0.53        26\n",
      "\n"
     ]
    }
   ],
   "source": [
    "print(classification_report(y_test, y_pred_rf))  # Generate classification report"
   ]
  },
  {
   "cell_type": "markdown",
   "metadata": {},
   "source": [
    "### The F1 score accuracy for Random Forest improved slightly to 54% compared to 50% for Decision Tree model"
   ]
  },
  {
   "cell_type": "markdown",
   "metadata": {},
   "source": [
    "# 5. Gradient Boosting"
   ]
  },
  {
   "cell_type": "code",
   "execution_count": 29,
   "metadata": {},
   "outputs": [],
   "source": [
    "gb = GradientBoostingClassifier(random_state = 0)         # Create an instance of GradientBoostingClassifier\n",
    "gb.fit(X_train, y_train)                                  # Fit the model\n",
    "y_pred_gb = gb.predict(X_test)                            # Make predictions on the test data"
   ]
  },
  {
   "cell_type": "code",
   "execution_count": 30,
   "metadata": {},
   "outputs": [
    {
     "name": "stdout",
     "output_type": "stream",
     "text": [
      "              precision    recall  f1-score   support\n",
      "\n",
      "           0       0.50      0.38      0.43        13\n",
      "           1       0.50      0.62      0.55        13\n",
      "\n",
      "    accuracy                           0.50        26\n",
      "   macro avg       0.50      0.50      0.49        26\n",
      "weighted avg       0.50      0.50      0.49        26\n",
      "\n"
     ]
    }
   ],
   "source": [
    "print(classification_report(y_test, y_pred_gb))           # Generate classification report"
   ]
  },
  {
   "cell_type": "markdown",
   "metadata": {},
   "source": [
    "### F1 score accuracy with Gradient Boosting model is 50%"
   ]
  },
  {
   "cell_type": "markdown",
   "metadata": {},
   "source": [
    "### Based on the analysis so far, the range of F1 score accuracy is [50%, 73%] for different models. KNN model gives us the best F1 score accuracy of 73% at k=10"
   ]
  },
  {
   "cell_type": "markdown",
   "metadata": {},
   "source": [
    "# Feature Importance"
   ]
  },
  {
   "cell_type": "markdown",
   "metadata": {},
   "source": [
    "### Not all features contribute equally in getting the F1-score accuracy. There will be some features which are most important and some which can be eliminated. The following exercise will help us understand feature importance of our 6 independent variables and thereby build a robust model."
   ]
  },
  {
   "cell_type": "markdown",
   "metadata": {},
   "source": [
    "### Hypothesis - Based on our Logistic Regression analysis, timely_delivery should be the most important feature"
   ]
  },
  {
   "cell_type": "markdown",
   "metadata": {},
   "source": [
    "## 1. Random Forest feature importance - It is based on Gini importance. Gini importance looks at highest average decrease in 'impurity' to identify important features"
   ]
  },
  {
   "cell_type": "code",
   "execution_count": 39,
   "metadata": {},
   "outputs": [
    {
     "data": {
      "text/plain": [
       "array([0.17070373, 0.16632131, 0.18128957, 0.14844633, 0.17471919,\n",
       "       0.15851988])"
      ]
     },
     "execution_count": 39,
     "metadata": {},
     "output_type": "execute_result"
    }
   ],
   "source": [
    "rf.feature_importances_      # Get Feature importances"
   ]
  },
  {
   "cell_type": "code",
   "execution_count": 59,
   "metadata": {},
   "outputs": [
    {
     "data": {
      "text/plain": [
       "Text(0.5, 0, 'Importance')"
      ]
     },
     "execution_count": 59,
     "metadata": {},
     "output_type": "execute_result"
    },
    {
     "data": {
      "image/png": "[encoded data removed]",
      "text/plain": [
       "<Figure size 432x288 with 1 Axes>"
      ]
     },
     "metadata": {
      "needs_background": "light"
     },
     "output_type": "display_data"
    }
   ],
   "source": [
    "sorted_idx = rf.feature_importances_.argsort()                              # Sorting variables based on importance\n",
    "plt.barh(X.columns[sorted_idx], rf.feature_importances_[sorted_idx])        # Plot bar graph for feature importance\n",
    "plt.title('Random Forest Feature Importance')\n",
    "plt.ylabel('Features')\n",
    "plt.xlabel('Importance')\n",
    "plt.show()"
   ]
  },
  {
   "cell_type": "markdown",
   "metadata": {},
   "source": [
    "### All features seem to be almost equally important based on Random Forest feature importance. Ordered_all, courier_satif, timely_delivery, exp_contents are the 4 most important variables.\n",
    "\n",
    "### Moreover, Random forest feature importance has certain known drawbacks including its tendency to prefer variables with high cardinality (high number of possible values). Also, in the case of correlated variables, it selects one variable and ignores the other variables."
   ]
  },
  {
   "cell_type": "markdown",
   "metadata": {},
   "source": [
    "## 2. Permuation Importance - This method randomly shuffles features and computes change in model performance and is model agnostic. It also overcomes drawbacks of Random Forest feature importance.\n",
    "\n",
    "### Since this method is model agnostic, let's experiment with different models"
   ]
  },
  {
   "cell_type": "markdown",
   "metadata": {},
   "source": [
    "### 2a. Logistic Regression"
   ]
  },
  {
   "cell_type": "code",
   "execution_count": 130,
   "metadata": {},
   "outputs": [
    {
     "data": {
      "image/png": "[encoded data removed]",
      "text/plain": [
       "<Figure size 432x288 with 1 Axes>"
      ]
     },
     "metadata": {
      "needs_background": "light"
     },
     "output_type": "display_data"
    }
   ],
   "source": [
    "perm_importance = permutation_importance(logreg, X_test, y_test)                 # Get feature importance\n",
    "sorted_idx = perm_importance.importances_mean.argsort()                          # Order features based on importance\n",
    "plt.barh(X.columns[sorted_idx], perm_importance.importances_mean[sorted_idx])    # Plot bar graph\n",
    "plt.title('Feature Importance')\n",
    "plt.ylabel('Features')\n",
    "plt.xlabel('Importance')\n",
    "plt.show()"
   ]
  },
  {
   "cell_type": "markdown",
   "metadata": {},
   "source": [
    "### 2b. K Nearest Neighbors"
   ]
  },
  {
   "cell_type": "code",
   "execution_count": 131,
   "metadata": {},
   "outputs": [
    {
     "data": {
      "image/png": "[encoded data removed]",
      "text/plain": [
       "<Figure size 432x288 with 1 Axes>"
      ]
     },
     "metadata": {
      "needs_background": "light"
     },
     "output_type": "display_data"
    }
   ],
   "source": [
    "perm_importance = permutation_importance(knn_f, X_test, y_test)                  # Get feature importance\n",
    "sorted_idx = perm_importance.importances_mean.argsort()                          # Order features based on importance\n",
    "plt.barh(X.columns[sorted_idx], perm_importance.importances_mean[sorted_idx])    # Plot bar graph\n",
    "plt.title('Feature Importance')\n",
    "plt.ylabel('Features')\n",
    "plt.xlabel('Importance')\n",
    "plt.show()"
   ]
  },
  {
   "cell_type": "markdown",
   "metadata": {},
   "source": [
    "### 2c. Decision Tree"
   ]
  },
  {
   "cell_type": "code",
   "execution_count": 132,
   "metadata": {},
   "outputs": [
    {
     "data": {
      "image/png": "[encoded data removed]",
      "text/plain": [
       "<Figure size 432x288 with 1 Axes>"
      ]
     },
     "metadata": {
      "needs_background": "light"
     },
     "output_type": "display_data"
    }
   ],
   "source": [
    "perm_importance = permutation_importance(dtc, X_test, y_test)                  # Get feature importance\n",
    "sorted_idx = perm_importance.importances_mean.argsort()                          # Order features based on importance\n",
    "plt.barh(X.columns[sorted_idx], perm_importance.importances_mean[sorted_idx])    # Plot bar graph\n",
    "plt.title('Feature Importance')\n",
    "plt.ylabel('Features')\n",
    "plt.xlabel('Importance')\n",
    "plt.show()"
   ]
  },
  {
   "cell_type": "markdown",
   "metadata": {},
   "source": [
    "### 2d. Random Forest"
   ]
  },
  {
   "cell_type": "code",
   "execution_count": 133,
   "metadata": {},
   "outputs": [
    {
     "data": {
      "image/png": "[encoded data removed]",
      "text/plain": [
       "<Figure size 432x288 with 1 Axes>"
      ]
     },
     "metadata": {
      "needs_background": "light"
     },
     "output_type": "display_data"
    }
   ],
   "source": [
    "perm_importance = permutation_importance(rf, X_test, y_test)                  # Get feature importance\n",
    "sorted_idx = perm_importance.importances_mean.argsort()                          # Order features based on importance\n",
    "plt.barh(X.columns[sorted_idx], perm_importance.importances_mean[sorted_idx])    # Plot bar graph\n",
    "plt.title('Feature Importance')\n",
    "plt.ylabel('Features')\n",
    "plt.xlabel('Importance')\n",
    "plt.show()"
   ]
  },
  {
   "cell_type": "markdown",
   "metadata": {},
   "source": [
    "### 2e. Gradient Boosting"
   ]
  },
  {
   "cell_type": "code",
   "execution_count": 134,
   "metadata": {},
   "outputs": [
    {
     "data": {
      "image/png": "[encoded data removed]",
      "text/plain": [
       "<Figure size 432x288 with 1 Axes>"
      ]
     },
     "metadata": {
      "needs_background": "light"
     },
     "output_type": "display_data"
    }
   ],
   "source": [
    "perm_importance = permutation_importance(gb, X_test, y_test)                  # Get feature importance\n",
    "sorted_idx = perm_importance.importances_mean.argsort()                          # Order features based on importance\n",
    "plt.barh(X.columns[sorted_idx], perm_importance.importances_mean[sorted_idx])    # Plot bar graph\n",
    "plt.title('Feature Importance')\n",
    "plt.ylabel('Features')\n",
    "plt.xlabel('Importance')\n",
    "plt.show()"
   ]
  },
  {
   "cell_type": "markdown",
   "metadata": {},
   "source": [
    "### Based on the above 5 plots, timey_delivery is clearly the most important variable. For other variables, all models give different results. Since KNN has the highest F1 score accuracy, we can go ahead with the results of KNN Permuation Feature importance."
   ]
  },
  {
   "cell_type": "markdown",
   "metadata": {},
   "source": [
    "### The most important variables in order are timely_delivery, exp_contents, easy_app_order and good_price"
   ]
  },
  {
   "cell_type": "markdown",
   "metadata": {},
   "source": [
    "### Building KNN model with 4 important variables"
   ]
  },
  {
   "cell_type": "code",
   "execution_count": 81,
   "metadata": {},
   "outputs": [],
   "source": [
    "X_new = X[['timely_delivery', 'exp_contents', 'good_price', 'easy_app_order']]"
   ]
  },
  {
   "cell_type": "code",
   "execution_count": 82,
   "metadata": {},
   "outputs": [
    {
     "name": "stdout",
     "output_type": "stream",
     "text": [
      "     timely_delivery  exp_contents  good_price  easy_app_order\n",
      "116                3             4           5               3\n",
      "13                 4             2           5               3\n",
      "33                 3             2           4               5\n",
      "75                 3             2           3               4\n",
      "26                 3             3           5               5\n",
      "(100, 4)\n",
      "(26, 4)\n"
     ]
    }
   ],
   "source": [
    "X_train_new, X_test_new, y_train_new, y_test_new = train_test_split(X_new, y, test_size = 0.2, random_state = 0)\n",
    "print(X_train_new.head())\n",
    "print(X_train_new.shape)\n",
    "print(X_test_new.shape)"
   ]
  },
  {
   "cell_type": "code",
   "execution_count": 85,
   "metadata": {},
   "outputs": [],
   "source": [
    "k_range = range(1,100)                                       # Range of k for experimentation\n",
    "scores_new = {}                                              # Empty dictionary for storing scores for each value of k\n",
    "score_list_new = []                                          # Empty list for storing scores\n",
    "for k in k_range:                                            # Loop over k\n",
    "    knn = KNeighborsClassifier(n_neighbors = k)              # Build an instance of KNeighborsClassifier Model\n",
    "    knn.fit(X_train_new, y_train_new)                        # Fit the model with training data\n",
    "    y_pred_knn = knn.predict(X_test_new)                     # Make predictions for test data\n",
    "    scores_new[k] = f1_score(y_test_new, y_pred_knn)         # Generate F1 score and append to scores dictionary with respective k value\n",
    "    score_list_new.append(f1_score(y_test_new, y_pred_knn))  # Append F1 score to score_list dictionary"
   ]
  },
  {
   "cell_type": "code",
   "execution_count": 86,
   "metadata": {},
   "outputs": [
    {
     "data": {
      "image/png": "[encoded data removed]",
      "text/plain": [
       "<Figure size 432x288 with 1 Axes>"
      ]
     },
     "metadata": {
      "needs_background": "light"
     },
     "output_type": "display_data"
    }
   ],
   "source": [
    "%matplotlib inline\n",
    "import matplotlib.pyplot as plt\n",
    "plt.plot(k_range, score_list_new)                   # Plot Accuracy vs k value\n",
    "plt.xlabel('k value')\n",
    "plt.ylabel('Accuracy')\n",
    "plt.title('KNN - Accuracy vs k value')\n",
    "plt.show()"
   ]
  },
  {
   "cell_type": "code",
   "execution_count": 87,
   "metadata": {},
   "outputs": [
    {
     "data": {
      "text/plain": [
       "0.7272727272727274"
      ]
     },
     "execution_count": 87,
     "metadata": {},
     "output_type": "execute_result"
    }
   ],
   "source": [
    "# Get maximum score\n",
    "max(score_list_new)"
   ]
  },
  {
   "cell_type": "code",
   "execution_count": 88,
   "metadata": {},
   "outputs": [
    {
     "data": {
      "text/plain": [
       "33"
      ]
     },
     "execution_count": 88,
     "metadata": {},
     "output_type": "execute_result"
    }
   ],
   "source": [
    "# Get K value for maximum score\n",
    "max(scores, key=scores.get)"
   ]
  },
  {
   "cell_type": "markdown",
   "metadata": {},
   "source": [
    "### Maximum F1 score accuracy occurs at K = 33"
   ]
  },
  {
   "cell_type": "markdown",
   "metadata": {},
   "source": [
    "### Final KNN Model"
   ]
  },
  {
   "cell_type": "code",
   "execution_count": 91,
   "metadata": {},
   "outputs": [],
   "source": [
    "knn_f_new = KNeighborsClassifier(n_neighbors = 33)             # Build an instance of KNeighborsClassifier Model with k=10\n",
    "knn_f_new.fit(X_train_new, y_train_new)                        # Fit the model with training data\n",
    "y_pred_knn_f_new = knn_f_new.predict(X_test_new)               # Make predictions for test data"
   ]
  },
  {
   "cell_type": "code",
   "execution_count": 92,
   "metadata": {},
   "outputs": [
    {
     "name": "stdout",
     "output_type": "stream",
     "text": [
      "              precision    recall  f1-score   support\n",
      "\n",
      "           0       0.83      0.38      0.53        13\n",
      "           1       0.60      0.92      0.73        13\n",
      "\n",
      "    accuracy                           0.65        26\n",
      "   macro avg       0.72      0.65      0.63        26\n",
      "weighted avg       0.72      0.65      0.63        26\n",
      "\n"
     ]
    }
   ],
   "source": [
    "print(classification_report(y_test_new, y_pred_knn_f_new))"
   ]
  },
  {
   "cell_type": "markdown",
   "metadata": {},
   "source": [
    "### Maximum KNN F1 score accuracy using only 4 important variables comes out to 65% when k = 33"
   ]
  },
  {
   "cell_type": "markdown",
   "metadata": {},
   "source": [
    "### Removing 2 least important features led to a 8% decrease in F1 score accuracy in the KNN model. Since it is a significant drop in accuracy, it is in our best interest to use the KNN model with all 6 independent variables."
   ]
  },
  {
   "cell_type": "markdown",
   "metadata": {},
   "source": [
    "# Recursive Feature Elimination (RFECV)\n",
    "\n",
    "### Recursive Feature Elimination is a popular technique to iterately remove less important variables and finally arrive at an optimal model with few important features"
   ]
  },
  {
   "cell_type": "code",
   "execution_count": 124,
   "metadata": {},
   "outputs": [
    {
     "data": {
      "text/plain": [
       "RFECV(cv=StratifiedKFold(n_splits=10, random_state=None, shuffle=False),\n",
       "      estimator=RandomForestClassifier(random_state=0), scoring='f1_macro')"
      ]
     },
     "execution_count": 124,
     "metadata": {},
     "output_type": "execute_result"
    }
   ],
   "source": [
    "rfecv = RFECV(estimator = rf, step = 1, cv = StratifiedKFold(10), scoring = 'f1_macro')  # Creating an instance of RFECV usin Random Forest as estimator\n",
    "rfecv.fit(X,y)                                                                           # Fitting data into rfecv"
   ]
  },
  {
   "cell_type": "code",
   "execution_count": 125,
   "metadata": {},
   "outputs": [
    {
     "name": "stdout",
     "output_type": "stream",
     "text": [
      "Optimal number of features: 4\n"
     ]
    }
   ],
   "source": [
    "print('Optimal number of features: {}'.format(rfecv.n_features_))"
   ]
  },
  {
   "cell_type": "markdown",
   "metadata": {},
   "source": [
    "### Optimal number of features for RFECV with Random Forest as estimator is 4"
   ]
  },
  {
   "cell_type": "code",
   "execution_count": 126,
   "metadata": {
    "scrolled": true
   },
   "outputs": [
    {
     "data": {
      "image/png": "[encoded data removed]",
      "text/plain": [
       "<Figure size 432x288 with 1 Axes>"
      ]
     },
     "metadata": {
      "needs_background": "light"
     },
     "output_type": "display_data"
    }
   ],
   "source": [
    "plt.plot(range(1, len(rfecv.grid_scores_)+1), rfecv.grid_scores_)\n",
    "plt.title(\"F1 score accuracy vs number of features\")\n",
    "plt.xlabel('Number of features')\n",
    "plt.ylabel(\"F1 score (Macro)\")\n",
    "plt.show()"
   ]
  },
  {
   "cell_type": "code",
   "execution_count": 127,
   "metadata": {},
   "outputs": [
    {
     "data": {
      "text/plain": [
       "0.5767478354978357"
      ]
     },
     "execution_count": 127,
     "metadata": {},
     "output_type": "execute_result"
    }
   ],
   "source": [
    "max(rfecv.grid_scores_)"
   ]
  },
  {
   "cell_type": "markdown",
   "metadata": {},
   "source": [
    "### Maximum F1 score accuracy is 57.67% when number of features is 4"
   ]
  },
  {
   "cell_type": "code",
   "execution_count": 113,
   "metadata": {},
   "outputs": [
    {
     "data": {
      "text/plain": [
       "array([0.17070373, 0.16632131, 0.18128957, 0.14844633, 0.17471919,\n",
       "       0.15851988])"
      ]
     },
     "execution_count": 113,
     "metadata": {},
     "output_type": "execute_result"
    }
   ],
   "source": [
    "rfecv.estimator.feature_importances_"
   ]
  },
  {
   "cell_type": "code",
   "execution_count": 116,
   "metadata": {},
   "outputs": [
    {
     "data": {
      "image/png": "[encoded data removed]",
      "text/plain": [
       "<Figure size 432x288 with 1 Axes>"
      ]
     },
     "metadata": {
      "needs_background": "light"
     },
     "output_type": "display_data"
    }
   ],
   "source": [
    "sorted_idx = rfecv.estimator.feature_importances_.argsort()                          # Order features based on importance\n",
    "plt.barh(X.columns[sorted_idx], rfecv.estimator.feature_importances_[sorted_idx])   # Plot bar graph\n",
    "plt.title('Feature Importance')\n",
    "plt.ylabel('Features')\n",
    "plt.xlabel('Importance')\n",
    "plt.show()"
   ]
  },
  {
   "cell_type": "markdown",
   "metadata": {},
   "source": [
    "### Ordered_all, courier_satif, timely_delivery, exp_contents are the 4 most important variables according to RFECV. This is the exact same result compared to Random Forest feature importance."
   ]
  },
  {
   "cell_type": "markdown",
   "metadata": {},
   "source": [
    "# Summary\n",
    "\n",
    "### Highest F1 score accuracy achieved is 73% using KNN algorithm when k=10 with all 6 features\n",
    "\n",
    "### Highest F1 score accuracy achieved is 65% using KNN alogrithm when k=33 with 4 important variables (timely_delivery, exp_contents, good_price, easy_app_order) selected using Permutation feature importance.\n",
    "\n",
    "### Highest F1 score (macro) accuracy achieved is 57.67% using Recursive Feature Elimination and Random Forest as estimator. The optimal number of features is 4 and are as follows: ordered_all, courier_satif, timely_delivery and exp_contents."
   ]
  },
  {
   "cell_type": "code",
   "execution_count": null,
   "metadata": {},
   "outputs": [],
   "source": []
  }
 ],
 "metadata": {
  "kernelspec": {
   "display_name": "Python 3",
   "language": "python",
   "name": "python3"
  },
  "language_info": {
   "codemirror_mode": {
    "name": "ipython",
    "version": 3
   },
   "file_extension": ".py",
   "mimetype": "text/x-python",
   "name": "python",
   "nbconvert_exporter": "python",
   "pygments_lexer": "ipython3",
   "version": "3.8.5"
  }
 },
 "nbformat": 4,
 "nbformat_minor": 4
}
